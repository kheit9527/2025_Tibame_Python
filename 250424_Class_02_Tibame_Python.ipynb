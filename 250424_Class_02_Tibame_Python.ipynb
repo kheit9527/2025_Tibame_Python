{
  "nbformat": 4,
  "nbformat_minor": 0,
  "metadata": {
    "colab": {
      "provenance": [],
      "authorship_tag": "ABX9TyMIGWhZOm46dzow3M1QJGx8",
      "include_colab_link": true
    },
    "kernelspec": {
      "name": "python3",
      "display_name": "Python 3"
    },
    "language_info": {
      "name": "python"
    }
  },
  "cells": [
    {
      "cell_type": "markdown",
      "metadata": {
        "id": "view-in-github",
        "colab_type": "text"
      },
      "source": [
        "<a href=\"https://colab.research.google.com/github/kheit9527/2025_Tibame_Python/blob/main/250424_Class_02_Tibame_Python.ipynb\" target=\"_parent\"><img src=\"https://colab.research.google.com/assets/colab-badge.svg\" alt=\"Open In Colab\"/></a>"
      ]
    },
    {
      "cell_type": "markdown",
      "source": [
        "```\n",
        "!!! 想好再下筆\n",
        "    ** 問題的核心邏輯\n",
        "    ** 剪刀石頭布: 判別輸贏 -> 但遇到比3x3更多的情況?\n",
        "    ** 棒打老虎雞吃蟲 -> 我選你的前一個就贏，下一個就輸，剩下都是平手\n",
        "    ** 有隱含大小關係: 整數\n",
        "\n",
        "你只要使用到不同的.py，都需要先import\n",
        "\n",
        "import 檔案名字\n",
        "    ** 照抄一遍import後面.(的)功能\n",
        "    ** . = 的\n",
        "\n",
        "** 除了Built-in Functions內建以外的功能，都需要import\n",
        "\n",
        "清單型態(list): [\"剪刀\", \"石頭\", \"布\"]\n",
        "python在你創造清單的時候，就會給這些東西代號\n",
        "    ** (key): 0 1 2\n",
        "\n",
        "key-value(查詢)操作: 查東西[key] trans[0]\n",
        "\n",
        "if/elif/else, else可以不寫\n",
        "** else放最難處理的option\n",
        "\n",
        "7 / 3 = 2...1\n",
        "取商: 7 // 3 = 2\n",
        "取餘數(mod): 7 % 3 = 1 (循環操作)\n",
        "\n",
        "```\n"
      ],
      "metadata": {
        "id": "bxn6uio0Wm4h"
      }
    },
    {
      "cell_type": "code",
      "execution_count": 29,
      "metadata": {
        "colab": {
          "base_uri": "https://localhost:8080/"
        },
        "id": "m1n4whRcWj_I",
        "outputId": "473fb2d0-7680-44d8-c71c-03e715d4c0cb"
      },
      "outputs": [
        {
          "output_type": "stream",
          "name": "stdout",
          "text": [
            "請輸入你想出的拳： <0=剪刀, 1=石頭, 2=布>2\n",
            "Player出的拳是:  布\n",
            "Computer出的拳是:  剪刀\n",
            "Player Lose QQ\n"
          ]
        }
      ],
      "source": [
        "# 剪刀石頭布遊戲\n",
        "\n",
        "import random\n",
        "\n",
        "player = int(input(\"請輸入你想出的拳： <0=剪刀, 1=石頭, 2=布>\"))\n",
        "computer = random.randint(0,2)\n",
        "\n",
        "trans = [\"剪刀\", \"石頭\", \"布\"]\n",
        "\n",
        "# print(\"玩家出的拳是: \" + str(player))\n",
        "print(\"Player出的拳是: \", trans[player])\n",
        "print(\"Computer出的拳是: \", trans[computer])\n",
        "\n",
        "if player == (computer + 1) % 3:\n",
        "    print(\"Player WIN!!!\")\n",
        "elif player == (computer - 1) % 3: # computer == (player + 1) % 3:\n",
        "    print(\"Player Lose QQ\")\n",
        "else:\n",
        "    print(\"Draw\")\n",
        "\n",
        "\n",
        "# print(f\"玩家出的拳是：{player}\")\n",
        "# print(f\"電腦出的拳是：{computer}\")\n",
        "\n",
        "# 以下可以被list功能取代，有關list請參考上方備註\n",
        "# if player == 0:\n",
        "#     player = \"剪刀\"\n",
        "# elif player == 1:\n",
        "#     player = \"石頭\"\n",
        "# elif player == 2:\n",
        "#     player = \"布\"\n",
        "\n",
        "# if computer == 0:\n",
        "#     computer = \"剪刀\"\n",
        "# elif computer == 1:\n",
        "#     computer = \"石頭\"\n",
        "# elif computer == 2:\n",
        "#     computer = \"布\"\n",
        "\n"
      ]
    },
    {
      "cell_type": "code",
      "source": [
        "s = \"apple\"\n",
        "s[4]"
      ],
      "metadata": {
        "colab": {
          "base_uri": "https://localhost:8080/",
          "height": 35
        },
        "id": "rQbVTQg-nH97",
        "outputId": "47a6d721-b73d-4b38-de80-0b03391e3614"
      },
      "execution_count": 16,
      "outputs": [
        {
          "output_type": "execute_result",
          "data": {
            "text/plain": [
              "'e'"
            ],
            "application/vnd.google.colaboratory.intrinsic+json": {
              "type": "string"
            }
          },
          "metadata": {},
          "execution_count": 16
        }
      ]
    },
    {
      "cell_type": "code",
      "source": [
        "# 剪刀石頭布plus遊戲\n",
        "\n",
        "import random\n",
        "\n",
        "player = int(input(\"請輸入0到5的數字: \"))\n",
        "computer = random.randint(0,5)\n",
        "# computer = 3\n",
        "\n",
        "trans = [\"剪刀(0)\", \"石頭(0)\", \"布(0)\", \"剪刀(1)\", \"石頭(1)\", \"布(1)\"]\n",
        "\n",
        "print(f\"玩家出的拳是：{trans[player]}\")\n",
        "print(f\"電腦出的拳是：{trans[computer]}\")\n",
        "\n",
        "\n",
        "# aa = player // 3\n",
        "# print(f\"aa = {aa}\")\n",
        "# bb = computer // 3\n",
        "# print(f\"bb = {bb}\")\n",
        "\n",
        "if (player // 3) == (computer // 3):\n",
        "    if (player) % 3 == (computer + 1) % 3:\n",
        "        print(\"Player WIN!!!\")\n",
        "    elif (computer) % 3 == (player + 1) % 3:\n",
        "        print(\"Player Lose QQ\")\n",
        "    else:\n",
        "        print(\"Draw\")\n",
        "else:\n",
        "    print(\"Draw\")\n"
      ],
      "metadata": {
        "colab": {
          "base_uri": "https://localhost:8080/"
        },
        "id": "Rr43ZIF8yh10",
        "outputId": "f718850a-3a60-4879-a3e4-32a7760f84d0"
      },
      "execution_count": 65,
      "outputs": [
        {
          "output_type": "stream",
          "name": "stdout",
          "text": [
            "請輸入0到5的數字: 4\n",
            "玩家出的拳是：石頭(1)\n",
            "電腦出的拳是：布(1)\n",
            "Player Lose QQ\n"
          ]
        }
      ]
    }
  ]
}