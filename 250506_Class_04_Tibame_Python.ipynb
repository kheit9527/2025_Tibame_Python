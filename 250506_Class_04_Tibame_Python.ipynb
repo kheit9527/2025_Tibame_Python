{
  "nbformat": 4,
  "nbformat_minor": 0,
  "metadata": {
    "colab": {
      "provenance": [],
      "authorship_tag": "ABX9TyNwEyLvc7c39xQSLg7bvjLp",
      "include_colab_link": true
    },
    "kernelspec": {
      "name": "python3",
      "display_name": "Python 3"
    },
    "language_info": {
      "name": "python"
    }
  },
  "cells": [
    {
      "cell_type": "markdown",
      "metadata": {
        "id": "view-in-github",
        "colab_type": "text"
      },
      "source": [
        "<a href=\"https://colab.research.google.com/github/kheit9527/2025_Tibame_Python/blob/main/250506_Class_04_Tibame_Python.ipynb\" target=\"_parent\"><img src=\"https://colab.research.google.com/assets/colab-badge.svg\" alt=\"Open In Colab\"/></a>"
      ]
    },
    {
      "cell_type": "markdown",
      "source": [
        "```\n",
        "** 老師推薦: VR有搞頭(比起AI養套殺)，可以玩meta quest\n",
        "\n",
        "密碼學: (Ex.虛擬貨幣)\n",
        "** 先約定好轉換方式，即使被別人攔截，也無法被破解\n",
        "\n",
        "1. 凱薩密碼: 寫的時候，固定往後位移\n",
        "2. 維吉尼亞密碼:\n",
        "    a b c d ... z\n",
        "    d z f g ... o (做一張對照表)\n",
        "    26 * 25 * 24 * 23 * ... * 1 (26! 26階乘)\n",
        "\n",
        "** 如果一個問題的複雜度，高達10的30次方的等級，代表該問題對現在的電腦而言無解。\n",
        "** 才會需要AI跟統計學\n",
        "** 字母是有頻率的(字母頻率)，AI就是統計學\n",
        "** 數每個字母出現的次數，可以破解維吉尼亞密碼\n",
        "\n",
        "3. Enigma: 加大統計學難度\n",
        "對照表1: a-z -> 轉換\n",
        "對照表2:\n",
        "對照表3:\n",
        "對照表4:\n",
        "對照表5:\n",
        "\n",
        "apples\n",
        "123451 (使用不同對照表)\n",
        "\n",
        "** Alan Turing(圖靈): 模仿遊戲(電影)\n",
        "```\n",
        "\n"
      ],
      "metadata": {
        "id": "n58fGu0NM8OP"
      }
    },
    {
      "cell_type": "code",
      "execution_count": null,
      "metadata": {
        "colab": {
          "base_uri": "https://localhost:8080/"
        },
        "id": "DVJehGirM4_n",
        "outputId": "33f5a567-e024-4d41-c851-07de54036b61"
      },
      "outputs": [
        {
          "output_type": "stream",
          "name": "stdout",
          "text": [
            "a 出現 1 次\n",
            "b 出現 0 次\n",
            "c 出現 0 次\n",
            "d 出現 0 次\n",
            "e 出現 2 次\n",
            "f 出現 1 次\n",
            "g 出現 0 次\n",
            "h 出現 0 次\n",
            "i 出現 0 次\n",
            "j 出現 0 次\n",
            "k 出現 0 次\n",
            "l 出現 0 次\n",
            "m 出現 0 次\n",
            "n 出現 0 次\n",
            "o 出現 0 次\n",
            "p 出現 0 次\n",
            "q 出現 2 次\n",
            "r 出現 2 次\n",
            "s 出現 0 次\n",
            "t 出現 0 次\n",
            "u 出現 0 次\n",
            "v 出現 0 次\n",
            "w 出現 2 次\n",
            "x 出現 0 次\n",
            "y 出現 0 次\n",
            "z 出現 0 次\n"
          ]
        }
      ],
      "source": [
        "# 老師給的初始設定\n",
        "\n",
        "s = \"aerqwrqwef\" # 設定字串s的內容\n",
        "\n",
        "counts = [0] * 26 # 使用清單功能，設定counts共有26個元素(由於a~z共有26個字母)，初始值都是0\n",
        "\n",
        "i = 0 # 設定i的初始值\n",
        "while i < len(s): # 若i小於字串s的長度值，則持續迴圈\n",
        "    c = s[i] # 從字串s中提取第i個字，並儲存到c中\n",
        "\n",
        "    # print(c)\n",
        "    # 事實上，字母存在你的電腦中:\n",
        "    # ASCII編碼: a -> 0101010\n",
        "    # ord(\"a\") -> 97\n",
        "\n",
        "    # print(c, ord(c))\n",
        "\n",
        "    n = ord(c) - ord(\"a\") # 將c儲存的字所代表的編碼，減去字母a的編碼(最小的編碼)\n",
        "    # 轉換成編碼，然後統計出現次數\n",
        "    counts[n] = counts[n] + 1 # 儲存c當中的字母，並統計a~z總共出現幾次\n",
        "\n",
        "    # print(c, n, counts)\n",
        "\n",
        "    i = i + 1 # 計數器，將i值增加1\n",
        "\n",
        "# 幫我印的漂亮點(26次的迴圈)\n",
        "# a: 三次\n",
        "\n",
        "i = 0 # 設定i的初始值\n",
        "while i < 26: # 若i小於26(因為字母只有26個)，則持續迴圈\n",
        "    n = counts[i] # 統計a~z每個字母出現幾次\n",
        "    alpha = chr(i + ord(\"a\")) # 將i(數字編碼)轉換為英文字母(a~z)\n",
        "    print(alpha, \"出現\", n, \"次\") # 顯示a~z的字母，共出現幾次\n",
        "    i = i + 1 # 計數器，將i值增加1"
      ]
    },
    {
      "cell_type": "markdown",
      "source": [
        "```\n",
        "算面積: 蒙地卡羅法\n",
        "參照物(用長方形，剛好把\"奇怪形狀面積\"包起來)\n",
        "丟飛鏢(直到塗上滿滿都是標記點)\n",
        "丟10000個飛鏢，有2500個飛鏢在圖片內 -> 猜\"奇怪形狀面積\"剛好是1/4長方形面積\n",
        "\n",
        "例子: 半徑為1的圓形面積，如何計算?\n",
        "1. 畫一個剛好可以把圓形包起來的正方形(長度為2.面積為2*2=4)\n",
        "2. 坐標系(原點放在圓心)，x = -1 ~ 1，y = -1 ~ 1，開始丟飛鏢\n",
        "3. x平方+y平方=1平方 (x ** 2 + y ** 2 = r ** 2)\n",
        "4. x ** 2 + y ** 2 小於等於1，則在圓的裡面\n",
        "\n",
        "```\n",
        "\n"
      ],
      "metadata": {
        "id": "ymxsmU3QeB87"
      }
    },
    {
      "cell_type": "code",
      "source": [
        "# 老師寫的1\n",
        "\n",
        "import random # 匯入假隨機數模組\n",
        "\n",
        "count = 0 # 設定從0開始累計\n",
        "total = 10000 # 設定總次數為10000\n",
        "radius = 1 # 設定圓的半徑為1\n",
        "\n",
        "i = 0 # 設定i的初始值\n",
        "while i < total: # 若i小於total的次數，則持續迴圈\n",
        "    # 隨機一個(x, y)在我的正方形裡面\n",
        "    # -1 < = x, y <= 1\n",
        "    x = random.uniform(-1, 1) # 隨機一個在-1~1範圍內的數值，儲存到x中\n",
        "    y = random.uniform(-1, 1) # 隨機一個在-1~1範圍內的數值，儲存到y中\n",
        "\n",
        "    # 判斷這個隨機的點在圓裡面\n",
        "    # 更新次數\n",
        "    if x ** 2 + y ** 2 <= radius: # 如果x**2 + y**2 小於等於圓的半徑，則代表點在圓裡面，則記錄次數+1\n",
        "        count = count + 1\n",
        "    i = i + 1 # 計數器，將i值增加1\n",
        "\n",
        "# 正方形面積: 4\n",
        "# 圓形面積: (落到裡面/全部) * 正方形面積\n",
        "ratio = count / total # 計算落到圓範圍內的比例\n",
        "area = ratio * 4 # 半徑為1的圓，直徑為2，正方形面積 = 2(邊長)*2 = 4\n",
        "print(f\"圓的面積為{area}\") # 顯示圓面積的推估結果\n"
      ],
      "metadata": {
        "colab": {
          "base_uri": "https://localhost:8080/"
        },
        "id": "YMzbKLpmeA6Y",
        "outputId": "a45ccc52-b7ab-498f-f694-f5ce1083c0fe"
      },
      "execution_count": null,
      "outputs": [
        {
          "output_type": "stream",
          "name": "stdout",
          "text": [
            "圓的面積為3.1192\n"
          ]
        }
      ]
    },
    {
      "cell_type": "markdown",
      "source": [
        "```\n",
        "迴圈Part3\n",
        "其他條件: while後面填入正確\n",
        "** 其他條件的規範次數，而不是用if來規範\n",
        "\n",
        "布林型態(是否型態): True / False\n",
        "1. 學會說不: if not a == 3\n",
        "** 講中文(用中文直覺轉換)： 當我贏的次數還沒有到3次 (不要\"True的不 = False\")\n",
        "2. 組合: 而且(and) 或者(or)\n",
        "```\n",
        "\n"
      ],
      "metadata": {
        "id": "Jyby2wwrmlZ3"
      }
    },
    {
      "cell_type": "code",
      "source": [
        "# 老師寫的2\n",
        "\n",
        "import random # 匯入假隨機數模組\n",
        "\n",
        "# -1: lose, 0: even, 1: win\n",
        "trans = [\"輸\", \"平手\", \"贏\"] # 預設為0.1.2, 記得轉換\n",
        "win, even, lose = 0, 0, 0 # 設定\"輸\"、\"平手\"、\"贏\"的初始值是0\n",
        "\n",
        "# 當我還沒贏3把，就還要繼續玩\n",
        "while win < 3:\n",
        "    result = random.randint(-1, 1) # 從-1.0.1當中選擇一個\n",
        "    print(trans[result+1]) # 顯示\"輸\"=(-1)+1=0、\"平手\"=0+1=1、\"贏\"=1+1=2\n",
        "    if result == -1: # 如果result = -1，則代表輸\n",
        "        lose = lose + 1\n",
        "    elif result == 0: # 如果result = 0，則代表平手\n",
        "        even = even + 1\n",
        "    elif result == 1: # 如果result = 1，則代表贏\n",
        "        win = win + 1\n",
        "\n",
        "print(\"總紀錄: 贏:\", win, \"平手:\", even, \"輸:\", lose) # 顯示最終\"輸\"、\"平手\"、\"贏\"的統計結果"
      ],
      "metadata": {
        "colab": {
          "base_uri": "https://localhost:8080/"
        },
        "id": "fM0kK_ehmOi7",
        "outputId": "6dcf992b-538f-4563-d97e-d2dacee70456"
      },
      "execution_count": null,
      "outputs": [
        {
          "output_type": "stream",
          "name": "stdout",
          "text": [
            "輸\n",
            "贏\n",
            "平手\n",
            "輸\n",
            "輸\n",
            "輸\n",
            "輸\n",
            "輸\n",
            "平手\n",
            "輸\n",
            "贏\n",
            "平手\n",
            "輸\n",
            "輸\n",
            "輸\n",
            "輸\n",
            "贏\n",
            "總紀錄: 贏: 3 平手: 3 輸: 11\n"
          ]
        }
      ]
    },
    {
      "cell_type": "code",
      "source": [
        "# 老師寫的3\n",
        "\n",
        "import random # 匯入假隨機數模組\n",
        "\n",
        "# -1: lose, 0: even, 1: win\n",
        "trans = [\"lose\", \"even\", \"win\"] # 預設為0.1.2, 記得轉換\n",
        "win, even, lose = 0, 0, 0 # 設定\"lose\"、\"even\"、\"win\"的初始值是0\n",
        "\n",
        "# 當我還沒贏3次，而且對手也還沒贏3次，就還要繼續玩 (要在while裡面寫全部的東西)\n",
        "while (win < 3) and (lose < 3):\n",
        "    result = random.randint(-1, 1) # 從-1.0.1當中選擇一個\n",
        "    print(trans[result+1]) # 顯示\"lose\"=(-1)+1=0、\"even\"=0+1=1、\"win\"=1+1=2\n",
        "    if result == -1: # 如果result = -1，則代表輸\n",
        "        lose = lose + 1\n",
        "    elif result == 0: # 如果result = 0，則代表平手\n",
        "        even = even + 1\n",
        "    elif result == 1: # 如果result = 1，則代表贏\n",
        "        win = win + 1\n",
        "\n",
        "if win > lose: # 如果贏比輸多，則總體是贏的，反之總體是輸的\n",
        "    print(\"總體win\")\n",
        "else:\n",
        "    print(\"總體lose\")"
      ],
      "metadata": {
        "colab": {
          "base_uri": "https://localhost:8080/"
        },
        "id": "DisP9MvQpGq2",
        "outputId": "f44524ba-6b43-42f9-a0b6-611922d9a872"
      },
      "execution_count": null,
      "outputs": [
        {
          "output_type": "stream",
          "name": "stdout",
          "text": [
            "even\n",
            "even\n",
            "win\n",
            "win\n",
            "even\n",
            "lose\n",
            "even\n",
            "lose\n",
            "lose\n",
            "總體lose\n"
          ]
        }
      ]
    },
    {
      "cell_type": "code",
      "source": [
        "# 老師寫的3-1\n",
        "\n",
        "import random # 匯入假隨機數模組\n",
        "\n",
        "# -1: lose, 0: even, 1: win\n",
        "trans = [\"lose\", \"even\", \"win\"] # 預設為0.1.2, 記得轉換\n",
        "win, even, lose = 0, 0, 0 # 設定\"lose\"、\"even\"、\"win\"的初始值是0\n",
        "\n",
        "# 無腦 while True + break 很好用!!!\n",
        "# 1. 地點自由(什麼時候判斷都可以)\n",
        "# 2. 收尾工作很自由\n",
        "# 3. 好講中文(怎樣就結束)\n",
        "\n",
        "while True: # 如果沒有喊停，持續迴圈\n",
        "    result = random.randint(-1, 1) # 從-1.0.1當中選擇一個\n",
        "    print(trans[result+1]) # 顯示\"lose\"=(-1)+1=0、\"even\"=0+1=1、\"win\"=1+1=2\n",
        "    if result == -1: # 如果result = -1，則代表輸\n",
        "        lose = lose + 1\n",
        "    elif result == 0: # 如果result = 0，則代表平手\n",
        "        even = even + 1\n",
        "    elif result == 1: # 如果result = 1，則代表贏\n",
        "        win = win + 1\n",
        "\n",
        "    if win == 3: # 如果贏比輸多，則總體是贏的，反之總體是輸的\n",
        "        print(\"總體win\")\n",
        "        break\n",
        "    elif lose == 3:\n",
        "        print(\"總體lose\")\n",
        "        break\n"
      ],
      "metadata": {
        "colab": {
          "base_uri": "https://localhost:8080/"
        },
        "id": "31FVxVaptPe1",
        "outputId": "f6cbbbba-cfd4-4f1d-8fa9-228d7dc44f79"
      },
      "execution_count": null,
      "outputs": [
        {
          "output_type": "stream",
          "name": "stdout",
          "text": [
            "even\n",
            "win\n",
            "even\n",
            "win\n",
            "lose\n",
            "win\n",
            "總體win\n"
          ]
        }
      ]
    },
    {
      "cell_type": "markdown",
      "source": [
        "```\n",
        "結論: 只要不是固定次數的迴圈，就永遠無腦while True + break\n",
        "```\n",
        "\n"
      ],
      "metadata": {
        "id": "BsQeZvYuu4SZ"
      }
    },
    {
      "cell_type": "markdown",
      "source": [
        "```\n",
        "猜數字遊戲(0~100，猜一個)\n",
        "```\n"
      ],
      "metadata": {
        "id": "1NkyKXQ8vw9o"
      }
    },
    {
      "cell_type": "code",
      "source": [
        "# 老師寫的4\n",
        "\n",
        "import random # 匯入假隨機數模組\n",
        "\n",
        "low, high = 0, 100 # 設定猜數字遊戲的範圍(0~100的猜數字，實際上會猜1~99)\n",
        "ans = random.randint(low + 1, high - 1) # 從1~99隨機一個整數，作為答案\n",
        "\n",
        "while True: # 如果沒有喊停，持續迴圈\n",
        "    print(f\"請輸入 {low} - {high} :\") # 玩家輸入數字\n",
        "    guess = int(input()) # 數字轉換為整數值\n",
        "\n",
        "    if guess > ans: # 如果猜測值大於答案，則顯示猜得太大，並修改high值(修改範圍)\n",
        "        print(f\"Too big.\")\n",
        "        high = guess\n",
        "    elif guess < ans: # 如果猜測值小於答案，則顯示猜得太小，並修改low值(修改範圍)\n",
        "        print(f\"Too small.\")\n",
        "        low = guess\n",
        "    else: # 如果猜對，則顯示猜對\n",
        "        print(\"Bingo!\")\n",
        "        break"
      ],
      "metadata": {
        "id": "yOTF88rvvfe1",
        "colab": {
          "base_uri": "https://localhost:8080/"
        },
        "outputId": "e540dc09-e440-42e1-de3e-713138609bc9"
      },
      "execution_count": 1,
      "outputs": [
        {
          "output_type": "stream",
          "name": "stdout",
          "text": [
            "請輸入 0 - 100 :\n",
            "1\n",
            "Too small.\n",
            "請輸入 1 - 100 :\n",
            "50\n",
            "Too small.\n",
            "請輸入 50 - 100 :\n",
            "75\n",
            "Too small.\n",
            "請輸入 75 - 100 :\n",
            "87\n",
            "Too big.\n",
            "請輸入 75 - 87 :\n",
            "81\n",
            "Too big.\n",
            "請輸入 75 - 81 :\n",
            "78\n",
            "Too big.\n",
            "請輸入 75 - 78 :\n",
            "76\n",
            "Bingo!\n"
          ]
        }
      ]
    },
    {
      "cell_type": "markdown",
      "source": [
        "```\n",
        "加入防呆機制：利用and / or，確認資料在範圍內\n",
        "```\n",
        "\n"
      ],
      "metadata": {
        "id": "OztaXzvdyk8V"
      }
    },
    {
      "cell_type": "code",
      "source": [
        "# 練習5\n",
        "\n",
        "import random # 匯入假隨機數模組\n",
        "\n",
        "low, high = 0, 100 # 設定猜數字遊戲的範圍(0~100的猜數字，實際上會猜1~99)\n",
        "ans = random.randint(low + 1, high - 1) # 從1~99隨機一個整數，作為答案\n",
        "\n",
        "while True: # 如果沒有喊停，持續迴圈\n",
        "    print(f\"請輸入 {low} - {high} :\") # 玩家輸入數字\n",
        "    guess = int(input()) # 數字轉換為整數值\n",
        "\n",
        "    if (guess > low) and (guess < high): # 如果猜測值超出設定範圍，則顯示\"請輸入範圍內的數字\"\n",
        "        if guess > ans: # 如果猜測值大於答案，則顯示猜得太大，並修改high值(修改範圍)\n",
        "            print(f\"Too big.\")\n",
        "            high = guess\n",
        "        elif guess < ans: # 如果猜測值小於答案，則顯示猜得太小，並修改low值(修改範圍)\n",
        "            print(f\"Too small.\")\n",
        "            low = guess\n",
        "        else: # 如果猜對，則顯示猜對\n",
        "            print(\"Bingo!\")\n",
        "            break\n",
        "    else:\n",
        "        print(\"請輸入範圍內的數字\")\n",
        "        continue # 無需continue"
      ],
      "metadata": {
        "colab": {
          "base_uri": "https://localhost:8080/"
        },
        "id": "5ktQg9Wkyj-P",
        "outputId": "58883454-8bff-405f-d446-145fd236bade"
      },
      "execution_count": 2,
      "outputs": [
        {
          "output_type": "stream",
          "name": "stdout",
          "text": [
            "請輸入 0 - 100 :\n",
            "120\n",
            "請輸入範圍內的數字\n",
            "請輸入 0 - 100 :\n",
            "50\n",
            "Too big.\n",
            "請輸入 0 - 50 :\n",
            "25\n",
            "Too small.\n",
            "請輸入 25 - 50 :\n",
            "37\n",
            "Too big.\n",
            "請輸入 25 - 37 :\n",
            "31\n",
            "Too small.\n",
            "請輸入 31 - 37 :\n",
            "34\n",
            "Too small.\n",
            "請輸入 34 - 37 :\n",
            "35\n",
            "Too small.\n",
            "請輸入 35 - 37 :\n",
            "36\n",
            "Bingo!\n"
          ]
        }
      ]
    },
    {
      "cell_type": "code",
      "source": [
        "# 老師寫的5\n",
        "\n",
        "import random # 匯入假隨機數模組\n",
        "\n",
        "low, high = 0, 100 # 設定猜數字遊戲的範圍(0~100的猜數字，實際上會猜1~99)\n",
        "ans = random.randint(low + 1, high - 1) # 從1~99隨機一個整數，作為答案\n",
        "\n",
        "while True: # 如果沒有喊停，持續迴圈\n",
        "    print(f\"請輸入 {low} - {high} :\") # 玩家輸入數字\n",
        "    guess = int(input()) # 數字轉換為整數值\n",
        "\n",
        "    if (guess > low) and (guess < high): # 如果猜測值超出設定範圍，則顯示\"INVALID\"\n",
        "        if guess > ans: # 如果猜測值大於答案，則顯示猜得太大，並修改high值(修改範圍)\n",
        "            print(f\"Too big.\")\n",
        "            high = guess\n",
        "        elif guess < ans: # 如果猜測值小於答案，則顯示猜得太小，並修改low值(修改範圍)\n",
        "            print(f\"Too small.\")\n",
        "            low = guess\n",
        "        else: # 如果猜對，則顯示猜對\n",
        "            print(\"Bingo!\")\n",
        "            break\n",
        "    else:\n",
        "        print(\"INVALID\")"
      ],
      "metadata": {
        "id": "WNyun5610QsW"
      },
      "execution_count": null,
      "outputs": []
    },
    {
      "cell_type": "code",
      "source": [
        "# 老師寫的5-1\n",
        "\n",
        "import random # 匯入假隨機數模組\n",
        "\n",
        "low, high = 0, 100 # 設定猜數字遊戲的範圍(0~100的猜數字，實際上會猜1~99)\n",
        "ans = random.randint(low + 1, high - 1) # 從1~99隨機一個整數，作為答案\n",
        "\n",
        "while True: # 如果沒有喊停，持續迴圈\n",
        "    print(f\"請輸入 {low} - {high} :\") # 玩家輸入數字\n",
        "    guess = int(input()) # 數字轉換為整數值\n",
        "\n",
        "    if (guess < low) or (guess > high): # 如果猜測值超出設定範圍，則顯示\"INVALID\"\n",
        "        print(\"INVALID\")\n",
        "    else: # 正常情況時，進入以下迴圈\n",
        "        if guess > ans: # 如果猜測值大於答案，則顯示猜得太大，並修改high值(修改範圍)\n",
        "            print(f\"Too big.\")\n",
        "            high = guess\n",
        "        elif guess < ans: # 如果猜測值小於答案，則顯示猜得太小，並修改low值(修改範圍)\n",
        "            print(f\"Too small.\")\n",
        "            low = guess\n",
        "        else: # 如果猜對，則顯示猜對\n",
        "            print(\"Bingo!\")\n",
        "            break\n"
      ],
      "metadata": {
        "id": "tFSNuh3o11Oy"
      },
      "execution_count": null,
      "outputs": []
    },
    {
      "cell_type": "markdown",
      "source": [
        "```\n",
        "寫程式：模組化\n",
        "** 只要guess過得去，就必定是正確 (前一手一定正確)\n",
        "```\n",
        "\n"
      ],
      "metadata": {
        "id": "Mr0J3K8e2HdQ"
      }
    },
    {
      "cell_type": "code",
      "source": [
        "# 參考!!!!!\n",
        "# 老師寫的6\n",
        "\n",
        "import random # 匯入假隨機數模組\n",
        "\n",
        "low, high = 0, 100 # 設定猜數字遊戲的範圍(0~100的猜數字，實際上會猜1~99)\n",
        "ans = random.randint(low + 1, high - 1) # 從1~99隨機一個整數，作為答案\n",
        "\n",
        "while True: # 如果沒有喊停，持續迴圈\n",
        "    while True:\n",
        "        print(f\"請輸入 {low} - {high} :\") # 玩家輸入數字\n",
        "        guess = int(input()) # 數字轉換為整數值\n",
        "\n",
        "        if low < guess < high: # 如果在範圍內，跳出迴圈，否則顯示\"INVALID\"\n",
        "            break\n",
        "        else:\n",
        "            print(\"INVALID\")\n",
        "\n",
        "    if guess > ans: # 如果猜測值大於答案，則顯示猜得太大，並修改high值(修改範圍)\n",
        "        print(f\"Too big.\")\n",
        "        high = guess\n",
        "    elif guess < ans: # 如果猜測值小於答案，則顯示猜得太小，並修改low值(修改範圍)\n",
        "        print(f\"Too small.\")\n",
        "        low = guess\n",
        "    else: # 如果猜對，則顯示猜對\n",
        "        print(\"Bingo!\")\n",
        "        break"
      ],
      "metadata": {
        "colab": {
          "base_uri": "https://localhost:8080/"
        },
        "id": "V_BxTRIA2EYJ",
        "outputId": "1c33a607-f11c-4761-e3c5-ab72be9063f3"
      },
      "execution_count": null,
      "outputs": [
        {
          "output_type": "stream",
          "name": "stdout",
          "text": [
            "請輸入 0 - 100 :\n",
            "102\n",
            "INVALID\n",
            "請輸入 0 - 100 :\n",
            "-5\n",
            "INVALID\n",
            "請輸入 0 - 100 :\n",
            "80\n",
            "Too big.\n",
            "請輸入 0 - 80 :\n",
            "40\n",
            "Too small.\n",
            "請輸入 40 - 80 :\n",
            "20\n",
            "INVALID\n",
            "請輸入 40 - 80 :\n",
            "60\n",
            "Too small.\n",
            "請輸入 60 - 80 :\n",
            "70\n",
            "Too big.\n",
            "請輸入 60 - 70 :\n",
            "65\n",
            "Too small.\n",
            "請輸入 65 - 70 :\n",
            "68\n",
            "Too big.\n",
            "請輸入 65 - 68 :\n",
            "66\n",
            "Too small.\n",
            "請輸入 66 - 68 :\n",
            "67\n",
            "Bingo!\n"
          ]
        }
      ]
    }
  ]
}