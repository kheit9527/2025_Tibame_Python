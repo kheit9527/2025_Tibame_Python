{
  "nbformat": 4,
  "nbformat_minor": 0,
  "metadata": {
    "colab": {
      "provenance": [],
      "authorship_tag": "ABX9TyOd1geHnw/X9mmUz/SlQLh5",
      "include_colab_link": true
    },
    "kernelspec": {
      "name": "python3",
      "display_name": "Python 3"
    },
    "language_info": {
      "name": "python"
    }
  },
  "cells": [
    {
      "cell_type": "markdown",
      "metadata": {
        "id": "view-in-github",
        "colab_type": "text"
      },
      "source": [
        "<a href=\"https://colab.research.google.com/github/kheit9527/2025_Tibame_Python/blob/main/250508_Class_05_Tibame_Python.ipynb\" target=\"_parent\"><img src=\"https://colab.research.google.com/assets/colab-badge.svg\" alt=\"Open In Colab\"/></a>"
      ]
    },
    {
      "cell_type": "markdown",
      "source": [
        "```\n",
        "本地端 --- 伺服器端\n",
        "** 採一問一答的形式，一個問題就是一個網址\n",
        "\n",
        "~~ 以巴哈姆特動畫瘋為例 ~~\n",
        "網址最上面：網址列\n",
        "右鍵 -> 檢視頁面來源(Edge) -> 找到網址答案 -> 但找不到彈幕文字???\n",
        "** 隱藏問題: 隱藏網址\n",
        "\n",
        "F12 -> 開發人員工具 (或是找三個點 -> 更多工具 -> 開發人員工具)\n",
        "** 不要開到\"切換裝置模擬\"\n",
        "點選網路(會記錄所有網址) -> 選擇XHR -> 重新整理開始錄影\n",
        "danmu.php -> 預覽 -> 點開data -> 找到彈幕\n",
        "!!! 網址中的?(問號) : 後面放參數，每一組之間用&(AND)隔開\n",
        "\n",
        "輸入網址找答案 <-> 看到答案再找網址\n",
        "\n",
        "影片平台：串流型(一次給一小段影片，減少網路負擔)\n",
        "** 只要是影片，必定能夠下載(複現網址)\n",
        "** 他知道影片有幾段，才能放給你看 -> 問出有幾段?\n",
        "   -> 從media_b400000_0.ts開始找\n",
        "   -> m3u8結尾 -> 代表它可能是播放清單\n",
        "   -> 目前看什麼畫質，就下載什麼畫質\n",
        "   -> chunklist... 複製標頭中的\"要求URL\"\n",
        "\n",
        "```\n",
        "\n"
      ],
      "metadata": {
        "id": "iUg31999jMLQ"
      }
    },
    {
      "cell_type": "markdown",
      "source": [
        "```\n",
        "WIN: -headers \"Origin: https://ani.gamer.com.tw\" -i \"\" anime.mp4\n",
        "\n",
        "MAC: -headers 'Origin: https://ani.gamer.com.tw' -i '' anime.mp4\n",
        "\n",
        "ffmpeg(用拉的) 複製並且把-i後面的\"\"填入m3u8\n",
        "```\n",
        "\n"
      ],
      "metadata": {
        "id": "uN9W-slq0exs"
      }
    },
    {
      "cell_type": "markdown",
      "source": [
        "```\n",
        "帶參數: -headers(-參數的名字) \"...\"(參數的值) -i(輸入一個檔案) \"\" anime.mp4(輸出的檔案名稱)\n",
        "```\n",
        "\n"
      ],
      "metadata": {
        "id": "CGEkU8gG2jiy"
      }
    },
    {
      "cell_type": "code",
      "execution_count": null,
      "metadata": {
        "id": "S9-7f6fPi5de"
      },
      "outputs": [],
      "source": [
        "-headers \"Origin: https://ani.gamer.com.tw\" -i \"https://bahamut.akamaized.net/113448d622788e8a4ee3fe459387b2eab9bb86a1/360p/hdntl=exp=1746790040~acl=%2f113448d622788e8a4ee3fe459387b2eab9bb86a1%2fplaylist_guest.m3u8!%2f113448d622788e8a4ee3fe459387b2eab9bb86a1%2f360p%2f*~data=hdntl,0b88420b6320c5d%3a36632%3a0%3a1%3a52525229%3a0~hmac=684490b4ee9c03347c42088a9c179f77c74904f5ce0e9a57473b1ae8c5462c69/chunklist_b400000.m3u8\" anime.mp4"
      ]
    },
    {
      "cell_type": "code",
      "source": [
        "-headers \"Origin: https://ani.gamer.com.tw\" -i \"https://bahamut.akamaized.net/113448f8c21ea3b889f1c4e18aaf177163ee4b33/1080p/hdntl=exp=1746794609~acl=%2f113448f8c21ea3b889f1c4e18aaf177163ee4b33%2fplaylist_guest.m3u8!%2f113448f8c21ea3b889f1c4e18aaf177163ee4b33%2f360p%2f*~data=hdntl,0b88420b6320c5d%3a36633%3a0%3a1%3a5252522d%3a0~hmac=9686949d5b07974939422744b7f1edc32dd328b71522c1f88b10457110bffc01/chunklist_b400000.m3u8\" anime.mp4"
      ],
      "metadata": {
        "id": "6kF5opFA7Cji"
      },
      "execution_count": null,
      "outputs": []
    },
    {
      "cell_type": "markdown",
      "source": [
        "```\n",
        "以前容易出現亂碼: 編碼和解碼用了不一致的編碼\n",
        "** 英文: ASCII 繁體中文: BIG5 簡體中文: GBK\n",
        "現在唯一一套編碼: 萬國編碼(Unicode: utf-8)\n",
        "\n",
        "** 但Windows系統的預設編碼: ANSI(繁體: BIG5)\n",
        "!!! 不管用什麼系統，都不要落到預設編碼裡面，請指定編碼: utf-8\n",
        "\n",
        "```\n",
        "\n"
      ],
      "metadata": {
        "id": "60b3OuhO8f81"
      }
    },
    {
      "cell_type": "code",
      "source": [
        "f = open(\"a.txt\", \"w\", encoding = \"utf-8\")\n",
        "\n",
        "# 以前: write(f, \"abcde\") 寫入的功能\n",
        "# 專屬功能: f.write(\"abcde\")\n",
        "# 打不出來的字: \\符號\n",
        "# \\n: 換行 \\t: TAB\n",
        "\n",
        "f.write(\"abcde\\n\")\n",
        "f.write(\"fgwerwq\")\n",
        "\n",
        "# 以前: close(f)\n",
        "# 現在(專屬功能): f.close() 小括號一定要有\n",
        "\n",
        "f.close()\n"
      ],
      "metadata": {
        "id": "ylQDOCxX8UtB"
      },
      "execution_count": 4,
      "outputs": []
    },
    {
      "cell_type": "code",
      "source": [
        "len(\"a\\nb\") # 換行代表一個字"
      ],
      "metadata": {
        "colab": {
          "base_uri": "https://localhost:8080/"
        },
        "id": "13K0hFhICIUu",
        "outputId": "6f544fce-d524-4662-8c5f-99314322becc"
      },
      "execution_count": 3,
      "outputs": [
        {
          "output_type": "execute_result",
          "data": {
            "text/plain": [
              "3"
            ]
          },
          "metadata": {},
          "execution_count": 3
        }
      ]
    },
    {
      "cell_type": "code",
      "source": [
        "f = open(\"a.txt\", \"r\", encoding = \"utf-8\")\n",
        "\n",
        "# 以前: content = read(f)\n",
        "# 專屬功能: content = f.read()\n",
        "\n",
        "content = f.read()\n",
        "print(content)\n",
        "f.close()\n"
      ],
      "metadata": {
        "colab": {
          "base_uri": "https://localhost:8080/"
        },
        "id": "jC-0y77kDANO",
        "outputId": "1112678a-501a-445e-feb3-ad93058ec033"
      },
      "execution_count": 5,
      "outputs": [
        {
          "output_type": "stream",
          "name": "stdout",
          "text": [
            "abcde\n",
            "fgwerwq\n"
          ]
        }
      ]
    },
    {
      "cell_type": "code",
      "source": [
        "import urllib.request as req\n",
        "\n",
        "url = \"https://api.gamer.com.tw/anime/v1/danmu.php?videoSn=36632&geo=TW%2CHK\"\n",
        "f = req.urlopen(url)\n",
        "# 為何沒有encoding? -> 因為它可能是圖片(.jpg)或影片(.mp4)等不同的format\n",
        "content = f.read()\n",
        "print(type(content)) # bytes: 代表是0與1的組合\n",
        "\n",
        "# 因為不是本地端打開，無須f.close()\n"
      ],
      "metadata": {
        "colab": {
          "base_uri": "https://localhost:8080/"
        },
        "id": "t0RAswYBEtRj",
        "outputId": "83195031-1c0e-4ce4-df1d-159bf8762fc2"
      },
      "execution_count": 8,
      "outputs": [
        {
          "output_type": "stream",
          "name": "stdout",
          "text": [
            "<class 'bytes'>\n"
          ]
        }
      ]
    },
    {
      "cell_type": "markdown",
      "source": [
        "```\n",
        "[彈幕, 彈幕]\n",
        "\n",
        "彈幕(字典): 把很多單位具合起來，再一起來表示這個複雜的彈幕\n",
        "{}\n",
        "\n",
        "** key: value\n",
        "   example: {\n",
        "                \"userid\": \"haru\"\n",
        "            }\n",
        "   \"userid\": key\n",
        "   \"haru\": value\n",
        "\n",
        "字典的key是你自訂的(字串/數字)\n",
        "\n",
        "List: 一群同類型的東西\n",
        "Dict: 一個複雜的東西\n",
        "同時使用: 世界上沒有表示不了的東西 -> !!! JSON格式 !!!\n",
        "\n",
        "舉例: 全台北的展覽\n",
        "[\n",
        "    展覽1{\"地點\":[地點1{\"地址\":aaa, \"電話\": xxx}, 地點2{}, 地點3{}]}\n",
        "    展覽2{}\n",
        "    展覽3{}\n",
        "]\n",
        "```\n",
        "\n"
      ],
      "metadata": {
        "id": "wD0XScXFHWIE"
      }
    },
    {
      "cell_type": "code",
      "source": [],
      "metadata": {
        "id": "b3IuowbwFXxW"
      },
      "execution_count": null,
      "outputs": []
    }
  ]
}