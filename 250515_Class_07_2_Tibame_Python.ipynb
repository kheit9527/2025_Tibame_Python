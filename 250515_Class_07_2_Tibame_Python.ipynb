{
  "nbformat": 4,
  "nbformat_minor": 0,
  "metadata": {
    "colab": {
      "provenance": [],
      "authorship_tag": "ABX9TyPEGQO38QJck6daFz91Fvmd",
      "include_colab_link": true
    },
    "kernelspec": {
      "name": "python3",
      "display_name": "Python 3"
    },
    "language_info": {
      "name": "python"
    }
  },
  "cells": [
    {
      "cell_type": "markdown",
      "metadata": {
        "id": "view-in-github",
        "colab_type": "text"
      },
      "source": [
        "<a href=\"https://colab.research.google.com/github/kheit9527/2025_Tibame_Python/blob/main/250515_Class_07_2_Tibame_Python.ipynb\" target=\"_parent\"><img src=\"https://colab.research.google.com/assets/colab-badge.svg\" alt=\"Open In Colab\"/></a>"
      ]
    },
    {
      "cell_type": "markdown",
      "source": [
        "```\n",
        "HTML格式: 一塊一塊長方形(區塊)構成\n",
        "\n",
        "<>  -> start\n",
        "\n",
        "</> -> end\n",
        "\n",
        "1. 名稱: 決定是什麼東西\n",
        "** a: 超連結  img: 圖片  video: 影片\n",
        "** ex: <a> a區塊開始了 ... </a> a區塊結束了\n",
        "\n",
        "\n",
        "2. 屬性: 決定這東西的一些細節\n",
        "** a: href=\"網址\" (hyper reference)\n",
        "** img / video: src=\"網址\" (source)\n",
        "\n",
        "** ex: <a href=\"...\">\n",
        "\n",
        "\n",
        "3. 顯示文字\n",
        "** ex: <a> \"顯示文字在這\" </a>\n",
        "\n",
        "!!! 圖片的開始就是結束，所以沒有</img>\n",
        "```\n",
        "\n"
      ],
      "metadata": {
        "id": "CkqPdQFq2xUR"
      }
    },
    {
      "cell_type": "markdown",
      "source": [
        "```\n",
        "前端: 你看到的網頁、東西\n",
        "1. HTML: 內容\n",
        "2. CSS: 排版 -> 我需要這些排版的超連結 (滑鼠滑上去會變色、字體多大)\n",
        "3. JavaScript: 動態 (跑到某個時間點，就去要東西)\n",
        "\n",
        "後端: 如何處理你丟過去的網址 (網址的處理接收、資料庫的查詢)\n",
        "\n",
        "\n",
        "CSS: 找到HTML對應的區塊，加上規則\n",
        "1. HTML名字\n",
        "a{\n",
        "    background-color:red\n",
        "}\n",
        "\n",
        "** 人為的加上一點東西，讓五個超連結跟別人不一樣 -> 才能抓出這些超連結\n",
        "** 幫這些超連結加上一些跟別人不一樣的\"屬性\"\n",
        "class = \"分類1 分類2 分類3\" (空白鍵: 分開的符號)\n",
        "\n",
        "2. class屬性\n",
        ".class名字{\n",
        "}\n",
        "\n",
        "3. id屬性\n",
        "id = \"值\"\n",
        "#id{    \n",
        "}\n",
        "\n",
        "\n",
        "```\n",
        "\n"
      ],
      "metadata": {
        "id": "iIZhKxWQ8qcK"
      }
    },
    {
      "cell_type": "code",
      "execution_count": 12,
      "metadata": {
        "colab": {
          "base_uri": "https://localhost:8080/"
        },
        "id": "XNRwj_BS2uxe",
        "outputId": "2b82be36-41d8-468c-d528-ce1db300f806"
      },
      "outputs": [
        {
          "output_type": "stream",
          "name": "stdout",
          "text": [
            "<a class=\"list-rst__rst-name-target cpy-rst-name\" data-list-dest=\"item_top\" href=\"https://tabelog.com/tw/osaka/A2701/A270108/27074010/\" rel=\"noopener\" target=\"_blank\">PARIS-h</a>\n",
            "https://tabelog.com/tw/osaka/A2701/A270108/27074010/\n",
            "PARIS-h\n"
          ]
        }
      ],
      "source": [
        "import urllib.request as req\n",
        "# beautifulsoup4\n",
        "import bs4 as bs\n",
        "\n",
        "url = \"https://tabelog.com/tw/osaka/rstLst/sweets/?SrtT=rt\"\n",
        "resp = req.urlopen(url)\n",
        "content = resp.read()\n",
        "# print(content)\n",
        "# json.loads\n",
        "\n",
        "# html型態轉換: string字串 -> 區塊型態\n",
        "html = bs.BeautifulSoup(content)\n",
        "# print(type(html)) # 區塊型態\n",
        "\n",
        "# 只要你是\"區塊型態\" 1. find(符合條件的第一個) 2. find_all(符合條件的所有東西) (html名稱，篩選條件class)\n",
        "target = html.find(\"a\", {\"class\":\"list-rst__rst-name-target\"})\n",
        "\n",
        "# 特殊屬性(href/src): 字典 [屬姓名]\n",
        "# HTML的顯示內容: \"專屬值\"的拿法 區塊.text\n",
        "# 一個型態可以擁有那些東西:\n",
        "# a. 專屬功能: ex. 人.吃飯() 植物.光合作用()\n",
        "# b. 專屬值: ex. 人.身高\n",
        "\n",
        "print(target)\n",
        "print(target[\"href\"])\n",
        "print(target.text)\n"
      ]
    },
    {
      "cell_type": "code",
      "source": [],
      "metadata": {
        "id": "Ef6S9WlhHeP-"
      },
      "execution_count": null,
      "outputs": []
    }
  ]
}