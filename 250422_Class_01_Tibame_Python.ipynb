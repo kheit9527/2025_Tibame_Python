{
  "nbformat": 4,
  "nbformat_minor": 0,
  "metadata": {
    "colab": {
      "provenance": [],
      "authorship_tag": "ABX9TyNyLWpncJmPIMnQ5R+UgrcO",
      "include_colab_link": true
    },
    "kernelspec": {
      "name": "python3",
      "display_name": "Python 3"
    },
    "language_info": {
      "name": "python"
    }
  },
  "cells": [
    {
      "cell_type": "markdown",
      "metadata": {
        "id": "view-in-github",
        "colab_type": "text"
      },
      "source": [
        "<a href=\"https://colab.research.google.com/github/kheit9527/2025_Tibame_Python/blob/main/250422_Class_01_Tibame_Python.ipynb\" target=\"_parent\"><img src=\"https://colab.research.google.com/assets/colab-badge.svg\" alt=\"Open In Colab\"/></a>"
      ]
    },
    {
      "cell_type": "markdown",
      "source": [
        "```\n",
        "1. 標準python檔案：第一行執行到最後一行(.py)\n",
        "2. 依賴於python工具庫(jupyter):部分執行(.ipynb)\n",
        "\n",
        "colab: 線上版本的jupyter notebook\n",
        "\n",
        "安裝本地端:\n",
        "1. 翻譯器: Python 3.10...\n",
        "2. 輔助工具: Pycharm(Recommand) v.s. Vscode(All-Language)\n",
        "\n",
        "Anaconda: 翻譯器/輔助工具/常用函式庫 (可能會改變系統路徑)\n",
        "\n",
        "```"
      ],
      "metadata": {
        "id": "YiM_dvzkQOe_"
      }
    },
    {
      "cell_type": "markdown",
      "source": [
        "```\n",
        "好程式：可讀性佳，像一篇文章，給他人或歷史回顧很好理解\n",
        "\n",
        "好程式需要:\n",
        "0. 註解: # (井字號+空格)\n",
        "1. 功能: print(參數)\n",
        "    就算這功能沒有參數，功能()\n",
        "2. 絕對不能重複寫\n",
        "3. =: 取代、是 (名稱=值)\n",
        "    a. 5 == 3 + 2(是否左右相等?)\n",
        "    b. x = 2(取代)\n",
        "4. 型態:\n",
        "    a. 數字: 細分為兩種<int(整數)/float(小數.浮點數)>\n",
        "        ** 浮點數計算偏差不用理會\n",
        "    b. 字串: str \"abcdedghijk\"\n",
        "        ** 電話號碼一定是字串\n",
        "    c. 布林值(boolean): True/False\n",
        "\n",
        "5. 運算的時候，左右型態基本上要一致\n",
        "6. !!!型態轉換：int() float() str()\n",
        "7. input(字串)\n",
        "    a. 參數: 提示字串\n",
        "    b. 回傳值: 做完這個功能以後，丟回來的\"新的\"答案\n",
        "        ** 答案需確認型態\n",
        "\n",
        "8. 如果...否則...\n",
        "    if:\n",
        "        xxx\n",
        "        else:\n",
        "        xxx\n",
        "\n",
        "    ** 強制排版(縮排,劇本排版法)\n",
        "        兩個符號構成: 1.冒號 2.\n",
        "    Elwing:\n",
        "        xxxxx\n",
        "    Elsa:\n",
        "        xxxxx\n",
        "    ** IndentationError: 縮排錯誤\n",
        "\n",
        "9. 多個if/else (如果/否則如果/否則)\n",
        "    if bmi > 25:\n",
        "        print()\n",
        "    elif 25 > bmi > 18:\n",
        "        print()\n",
        "    else:\n",
        "        print()\n",
        "\n",
        "    剛好=25時: 走else\n",
        "    因此該這樣寫(單選題,篩選):\n",
        "    if bmi > 25:\n",
        "        print()\n",
        "    elif bmi > 18:\n",
        "        print()\n",
        "    else:\n",
        "        print()\n",
        "\n",
        "```"
      ],
      "metadata": {
        "id": "dGHEkkeqYYCj"
      }
    },
    {
      "cell_type": "code",
      "execution_count": 31,
      "metadata": {
        "colab": {
          "base_uri": "https://localhost:8080/"
        },
        "id": "qxxQOyCePPnw",
        "outputId": "4a79c46d-bc95-4e93-e810-edeb2bf5c2ad"
      },
      "outputs": [
        {
          "output_type": "stream",
          "name": "stdout",
          "text": [
            "請輸入身高(公分)：90\n",
            "請輸入體重(公斤)：90\n",
            "您輸入的身高為：90.0 公分\n",
            "您輸入的體重為：90.0 公斤\n",
            "BMI計算結果為：111.1111111111111\n",
            "體重肥胖\n",
            "要注意\n"
          ]
        }
      ],
      "source": [
        "# BMI計算程式\n",
        "# 所有人皆可輸入，並給予建議\n",
        "# 1.使用者輸入 2.根據輸入計算 3.給出建議\n",
        "# BMI = 體重(kg) / 身高(m)^2\n",
        "\n",
        "height = float(input(\"請輸入身高(公分)：\"))\n",
        "weight = float(input(\"請輸入體重(公斤)：\"))\n",
        "\n",
        "bmi = weight/(height/100) **2\n",
        "\n",
        "# print(\"您輸入的身高為：\" + str(height) + \" 公分\")\n",
        "# print(\"您輸入的體重為：\" + str(weight) + \" 公斤\")\n",
        "# print(\"BMI計算結果為：\" + str(bmi))\n",
        "\n",
        "print(f\"您輸入的身高為：{height} 公分\")\n",
        "print(f\"您輸入的體重為：{weight} 公斤\")\n",
        "print(f\"BMI計算結果為：{bmi}\")\n",
        "\n",
        "if bmi < 18.5:\n",
        "    print(\"體重過輕\")\n",
        "    print(\"要注意\")\n",
        "elif bmi < 24:\n",
        "    print(\"體重正常\")\n",
        "elif bmi < 27:\n",
        "    print(\"體重過重\")\n",
        "    print(\"要注意\")\n",
        "else:\n",
        "    print(\"體重肥胖\")\n",
        "    print(\"要注意\")\n"
      ]
    },
    {
      "cell_type": "markdown",
      "source": [
        "```\n",
        "數數進位問題：\n",
        "1.數數(十進位): 0 1 2 3 4 ... 9 10 11\n",
        "2.數數(四進位): 0 1 2 3 10 11 12\n",
        "3.數數(二進位): 0 1 10 11 100\n",
        "\n",
        "小數估計值? 誤差?\n",
        "Case: 披薩切3塊\n",
        "十進位: 0.33333333...\n",
        "三進位: 0.1\n",
        "\n",
        "小數有誤差很正常(因為電腦二進位)，小數本來就是估計值\n",
        "浮點數偏差值\n",
        "\n",
        "```\n",
        "\n"
      ],
      "metadata": {
        "id": "4jx_vGAZdZ6r"
      }
    },
    {
      "cell_type": "code",
      "source": [
        "3 + 3.14"
      ],
      "metadata": {
        "colab": {
          "base_uri": "https://localhost:8080/"
        },
        "id": "O8YbIS7pdNnf",
        "outputId": "85adfb1c-ed28-42f2-c73f-e6ec4b81ae9d"
      },
      "execution_count": 7,
      "outputs": [
        {
          "output_type": "execute_result",
          "data": {
            "text/plain": [
              "6.140000000000001"
            ]
          },
          "metadata": {},
          "execution_count": 7
        }
      ]
    },
    {
      "cell_type": "code",
      "source": [
        "# 值基本上不會變，只有你=的時候才會改變\n",
        "a = 4.6\n",
        "int(a)\n",
        "print(f\"a = {a}\")\n",
        "\n",
        "b = int(a)\n",
        "print(f\"b = {b}\")"
      ],
      "metadata": {
        "colab": {
          "base_uri": "https://localhost:8080/"
        },
        "id": "Ym3KBLwNlgQT",
        "outputId": "e9aea0cb-96f3-4bf6-f344-4f5d130cc503"
      },
      "execution_count": 18,
      "outputs": [
        {
          "output_type": "stream",
          "name": "stdout",
          "text": [
            "a = 4.6\n",
            "b = 4\n"
          ]
        }
      ]
    }
  ]
}