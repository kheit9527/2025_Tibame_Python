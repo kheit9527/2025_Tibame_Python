{
  "nbformat": 4,
  "nbformat_minor": 0,
  "metadata": {
    "colab": {
      "provenance": [],
      "authorship_tag": "ABX9TyMuDDKpstBXFkxpy6RDBCoQ",
      "include_colab_link": true
    },
    "kernelspec": {
      "name": "python3",
      "display_name": "Python 3"
    },
    "language_info": {
      "name": "python"
    }
  },
  "cells": [
    {
      "cell_type": "markdown",
      "metadata": {
        "id": "view-in-github",
        "colab_type": "text"
      },
      "source": [
        "<a href=\"https://colab.research.google.com/github/kheit9527/2025_Tibame_Python/blob/main/250422_Class_01_Tibame_Python.ipynb\" target=\"_parent\"><img src=\"https://colab.research.google.com/assets/colab-badge.svg\" alt=\"Open In Colab\"/></a>"
      ]
    },
    {
      "cell_type": "markdown",
      "source": [
        "```\n",
        "1. 標準python檔案：第一行執行到最後一行(.py)\n",
        "2. 依賴於python工具庫(jupyter):部分執行(.ipynb)\n",
        "\n",
        "colab: 線上版本的jupyter notebook\n",
        "\n",
        "安裝本地端:\n",
        "1. 翻譯器: Python 3.10...\n",
        "2. 輔助工具: Pycharm(Recommand) v.s. Vscode(All-Language)\n",
        "\n",
        "Anaconda: 翻譯器/輔助工具/常用函式庫 (可能會改變系統路徑)\n",
        "\n",
        "```"
      ],
      "metadata": {
        "id": "YiM_dvzkQOe_"
      }
    },
    {
      "cell_type": "code",
      "execution_count": null,
      "metadata": {
        "id": "qxxQOyCePPnw"
      },
      "outputs": [],
      "source": []
    }
  ]
}