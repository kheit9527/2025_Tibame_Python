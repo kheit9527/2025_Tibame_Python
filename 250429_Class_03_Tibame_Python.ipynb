{
  "nbformat": 4,
  "nbformat_minor": 0,
  "metadata": {
    "colab": {
      "provenance": [],
      "authorship_tag": "ABX9TyMVDdALCTSlt3aSL0pyJWR2",
      "include_colab_link": true
    },
    "kernelspec": {
      "name": "python3",
      "display_name": "Python 3"
    },
    "language_info": {
      "name": "python"
    }
  },
  "cells": [
    {
      "cell_type": "markdown",
      "metadata": {
        "id": "view-in-github",
        "colab_type": "text"
      },
      "source": [
        "<a href=\"https://colab.research.google.com/github/kheit9527/2025_Tibame_Python/blob/main/250429_Class_03_Tibame_Python.ipynb\" target=\"_parent\"><img src=\"https://colab.research.google.com/assets/colab-badge.svg\" alt=\"Open In Colab\"/></a>"
      ]
    },
    {
      "cell_type": "markdown",
      "source": [
        "```\n",
        "練習:\n",
        "第一行：o\n",
        "第二行：oo\n",
        "第三行：ooo\n",
        "第四行：oooo\n",
        "```\n",
        "\n"
      ],
      "metadata": {
        "id": "udJp2uSYOk_3"
      }
    },
    {
      "cell_type": "code",
      "source": [
        "print(\"abc\" * 4) # 字串可以重複，重複四次\n",
        "print([20, 30] * 4) # 清單也可以重複，重複四次"
      ],
      "metadata": {
        "colab": {
          "base_uri": "https://localhost:8080/"
        },
        "id": "IcgNXDZfPHbQ",
        "outputId": "ea16cde0-e4f9-4f3a-8ad4-72f1c839be8c"
      },
      "execution_count": null,
      "outputs": [
        {
          "output_type": "stream",
          "name": "stdout",
          "text": [
            "abcabcabcabc\n",
            "[20, 30, 20, 30, 20, 30, 20, 30]\n"
          ]
        }
      ]
    },
    {
      "cell_type": "code",
      "execution_count": null,
      "metadata": {
        "colab": {
          "base_uri": "https://localhost:8080/"
        },
        "id": "2Ts0E6haJv9z",
        "outputId": "028333b6-5527-4967-a042-c33389864e01"
      },
      "outputs": [
        {
          "output_type": "stream",
          "name": "stdout",
          "text": [
            "o\n",
            "oo\n",
            "ooo\n",
            "oooo\n",
            "ooooo\n",
            "oooooo\n",
            "ooooooo\n",
            "oooooooo\n",
            "ooooooooo\n",
            "oooooooooo\n"
          ]
        }
      ],
      "source": [
        "# Review: 三步驟不能忘 1.i=0 2.while i<... 3.i=i+1\n",
        "\n",
        "i = 0 # 設定i的初始值\n",
        "while i < 10: # 若i小於10，則持續迴圈\n",
        "    print(\"o\" * (i + 1)) # 顯示o符號，並隨著i的數量增加，列印符號的數量也增加\n",
        "    i = i + 1 # 計數器，將i值增加1"
      ]
    },
    {
      "cell_type": "markdown",
      "source": [
        "```\n",
        "練習:\n",
        "第一行：oooo\n",
        "第二行：_ooo (1個空白鍵)\n",
        "第三行：__oo (2個空白鍵)\n",
        "第四行：___o (3個空白鍵)\n",
        "\n",
        "** 多寫幾行不會死，痛一次但會爽好幾次\n",
        "** 提升可讀性 -> 同時提升修改程式的方便性\n",
        "** 利用代號，取代可調整/修改的部分\n",
        "```\n",
        "\n"
      ],
      "metadata": {
        "id": "hLVLA9OcP1Jq"
      }
    },
    {
      "cell_type": "code",
      "source": [
        "i = 0 # 設定i的初始值\n",
        "while i < 10: # 若i小於10，則持續迴圈\n",
        "    print(\" \" * i + \"o\" * (10 - i)) # 顯示空白鍵及o符號，並隨著i的數量增加，列印空白鍵的數量增加，o符號的數量減少\n",
        "    i = i + 1 # 計數器，將i值增加1"
      ],
      "metadata": {
        "colab": {
          "base_uri": "https://localhost:8080/"
        },
        "id": "LRj7TBpfP83a",
        "outputId": "3ee3c279-7e2f-4064-cd3b-6f550998f031"
      },
      "execution_count": null,
      "outputs": [
        {
          "output_type": "stream",
          "name": "stdout",
          "text": [
            "oooooooooo\n",
            " ooooooooo\n",
            "  oooooooo\n",
            "   ooooooo\n",
            "    oooooo\n",
            "     ooooo\n",
            "      oooo\n",
            "       ooo\n",
            "        oo\n",
            "         o\n"
          ]
        }
      ]
    },
    {
      "cell_type": "code",
      "source": [
        "# 可讀性修正\n",
        "\n",
        "left, right = \" \", \"o\" # 左邊設置為空格，右邊設置為o\n",
        "layer = 10 # 總層數(重複的東西，要拿出來)\n",
        "\n",
        "i = 0 # 設定i的初始值\n",
        "while i < layer: # 若i小於layer所設定的數量，則持續迴圈\n",
        "\n",
        "    lcount = i # 紀錄當前的i值\n",
        "    rcount = layer - i # 紀錄layer的總數 -i的計算結果\n",
        "\n",
        "    print(left * lcount + right * rcount) # 顯示空白鍵及o符號，並隨著i的數量增加，列印空白鍵的數量增加，o符號的數量減少\n",
        "    i = i + 1 # 計數器，將i值增加1"
      ],
      "metadata": {
        "colab": {
          "base_uri": "https://localhost:8080/"
        },
        "id": "nYOSxYFuRcvn",
        "outputId": "1c370bcc-df62-46f0-dd5c-c34e4a1fe501"
      },
      "execution_count": null,
      "outputs": [
        {
          "output_type": "stream",
          "name": "stdout",
          "text": [
            "oooooooooo\n",
            " ooooooooo\n",
            "  oooooooo\n",
            "   ooooooo\n",
            "    oooooo\n",
            "     ooooo\n",
            "      oooo\n",
            "       ooo\n",
            "        oo\n",
            "         o\n"
          ]
        }
      ]
    },
    {
      "cell_type": "code",
      "source": [
        "# 變化形態\n",
        "\n",
        "left, right = \" \", \"o\" # 左邊設置為空格，右邊設置為o\n",
        "layer = 10 # 總層數(重複的東西，要拿出來)\n",
        "\n",
        "i = 0 # 設定i的初始值\n",
        "while i < layer: # 若i小於layer所設定的數量，則持續迴圈\n",
        "\n",
        "    lcount = layer - i - 1 # 紀錄layer的總數 -i 再-1的計算結果\n",
        "    rcount = i + 1 # 紀錄當前的i值 +1的計算結果\n",
        "\n",
        "    print(left * lcount + right * rcount) # 顯示空白鍵及o符號，並隨著i的數量增加，列印空白鍵的數量增加，o符號的數量減少\n",
        "    i = i + 1 # 計數器，將i值增加1"
      ],
      "metadata": {
        "colab": {
          "base_uri": "https://localhost:8080/"
        },
        "id": "qhiR3-tMTpi5",
        "outputId": "519372ec-73fc-4bd3-b4d8-d2b0a4b49fd5"
      },
      "execution_count": null,
      "outputs": [
        {
          "output_type": "stream",
          "name": "stdout",
          "text": [
            "         o\n",
            "        oo\n",
            "       ooo\n",
            "      oooo\n",
            "     ooooo\n",
            "    oooooo\n",
            "   ooooooo\n",
            "  oooooooo\n",
            " ooooooooo\n",
            "oooooooooo\n"
          ]
        }
      ]
    },
    {
      "cell_type": "code",
      "source": [
        "# 練習\n",
        "\n",
        "ele1, ele2, ele3, space = \"o\", \"x\", \"a\", \" \" # 設置不同的元素\n",
        "layer = 10 # 總層數(重複的東西，要拿出來)\n",
        "\n",
        "i = 0 # 設定i的初始值\n",
        "while i < layer: # 若i小於layer所設定的數量，則持續迴圈\n",
        "\n",
        "    lcount = i # 紀錄當前的i值\n",
        "    rcount = layer - i # 紀錄layer的總數 -i的計算結果\n",
        "\n",
        "    if i % 3 == 0: # 如果i對3的餘數為0，則顯示空白鍵加上元素1的結果\n",
        "        print(space * lcount + ele1 * rcount)\n",
        "        i = i + 1 # 計數器，將i值增加1\n",
        "    elif i % 3 == 1: # 如果i對3的餘數為1，則顯示空白鍵加上元素2的結果\n",
        "        print(space * lcount + ele2 * rcount)\n",
        "        i = i + 1 # 計數器，將i值增加1\n",
        "    elif i % 3 == 2: # 如果i對3的餘數為2，則顯示空白鍵加上元素3的結果\n",
        "        print(space * lcount + ele3 * rcount)\n",
        "        i = i + 1 # 計數器，將i值增加1"
      ],
      "metadata": {
        "colab": {
          "base_uri": "https://localhost:8080/"
        },
        "id": "dLtfKDzLUla6",
        "outputId": "3bf888bc-280a-4a05-ceb0-7b08a152ff1b"
      },
      "execution_count": 17,
      "outputs": [
        {
          "output_type": "stream",
          "name": "stdout",
          "text": [
            "oooooooooo\n",
            " xxxxxxxxx\n",
            "  aaaaaaaa\n",
            "   ooooooo\n",
            "    xxxxxx\n",
            "     aaaaa\n",
            "      oooo\n",
            "       xxx\n",
            "        aa\n",
            "         o\n"
          ]
        }
      ]
    },
    {
      "cell_type": "code",
      "source": [
        "# 老師寫的\n",
        "\n",
        "layer = 10 # 總層數(重複的東西，要拿出來)\n",
        "\n",
        "i = 0 # 設定i的初始值\n",
        "while i < layer: # 若i小於layer所設定的數量，則持續迴圈\n",
        "\n",
        "    if i % 2 == 0: # 如果i對2的餘數為0，將左邊設置為空格，右邊設置為o\n",
        "        left, right = \" \", \"o\"\n",
        "    else: # 其他情況時，則將左邊設置為空格，右邊設置為x\n",
        "        left, right = \" \", \"x\"\n",
        "\n",
        "    lcount = i # 紀錄當前的i值\n",
        "    rcount = layer - i # 紀錄layer的總數 -i的計算結果\n",
        "\n",
        "    print(left * lcount + right * rcount) # 顯示空白鍵及符號搭配的綜合結果\n",
        "    i = i + 1 # 計數器，將i值增加1"
      ],
      "metadata": {
        "colab": {
          "base_uri": "https://localhost:8080/"
        },
        "id": "MEQiwdBiWxaK",
        "outputId": "8bb1a341-2c4a-4068-c353-7a21b8c345cf"
      },
      "execution_count": null,
      "outputs": [
        {
          "output_type": "stream",
          "name": "stdout",
          "text": [
            "oooooooooo\n",
            " xxxxxxxxx\n",
            "  oooooooo\n",
            "   xxxxxxx\n",
            "    oooooo\n",
            "     xxxxx\n",
            "      oooo\n",
            "       xxx\n",
            "        oo\n",
            "         x\n"
          ]
        }
      ]
    },
    {
      "cell_type": "code",
      "source": [
        "s = \"apple\" # 將s定義為字串\"apple\"\n",
        "len(s) # 顯示s這個字串的長度，要注意: key是(0,1,2,3,4)，但長度是5"
      ],
      "metadata": {
        "colab": {
          "base_uri": "https://localhost:8080/"
        },
        "id": "WYyHUO8zXoN4",
        "outputId": "c4d2697d-8245-4767-bf96-e6aba088269e"
      },
      "execution_count": null,
      "outputs": [
        {
          "output_type": "execute_result",
          "data": {
            "text/plain": [
              "5"
            ]
          },
          "metadata": {},
          "execution_count": 16
        }
      ]
    },
    {
      "cell_type": "code",
      "source": [
        "# 練習2\n",
        "\n",
        "lsymbols = [\" \"] # 利用清單功能，將左邊的元素設置為空格\n",
        "rsymbols = [\"o\", \"x\", \"?\"] # 利用清單功能，將右邊的元素設置o.x以及?\n",
        "\n",
        "layer = 10 # 總層數(重複的東西，要拿出來)\n",
        "\n",
        "data_size = len(rsymbols) # 統計rsymbols清單的長度，並儲存進data_size中\n",
        "print(f\"data_size = {data_size}\") # 顯示清單的長度\n",
        "print(\" \") # 為方便後續閱讀，顯示一個空格以分行\n",
        "\n",
        "i = 0 # 設定i的初始值\n",
        "while i < layer: # 若i小於layer所設定的數量，則持續迴圈\n",
        "\n",
        "    if i % data_size == 0: # 如果i除以資料長度的餘數為0，將左邊設置為空格，右邊設置為o(清單中的元素1)\n",
        "        left, right = lsymbols[0], rsymbols[0]\n",
        "    elif i % data_size == 1: # 如果i除以資料長度的餘數為0，將左邊設置為空格，右邊設置為x(清單中的元素2)\n",
        "        left, right = lsymbols[0], rsymbols[1]\n",
        "    else: # 其他情況時，將左邊設置為空格，右邊設置為?(清單中的元素3)\n",
        "        left, right = lsymbols[0], rsymbols[2]\n",
        "\n",
        "    lcount = i # 紀錄當前的i值\n",
        "    rcount = layer - i # 紀錄layer的總數 -i的計算結果\n",
        "\n",
        "    print(left * lcount + right * rcount) # 顯示空白鍵及符號搭配的綜合結果\n",
        "    i = i + 1 # 計數器，將i值增加1"
      ],
      "metadata": {
        "colab": {
          "base_uri": "https://localhost:8080/"
        },
        "id": "KFKok1JsYBBw",
        "outputId": "f6e82748-b49f-4231-f0ec-dcc01c840aad"
      },
      "execution_count": null,
      "outputs": [
        {
          "output_type": "stream",
          "name": "stdout",
          "text": [
            "data_size = 3\n",
            " \n",
            "oooooooooo\n",
            " xxxxxxxxx\n",
            "  ????????\n",
            "   ooooooo\n",
            "    xxxxxx\n",
            "     ?????\n",
            "      oooo\n",
            "       xxx\n",
            "        ??\n",
            "         o\n"
          ]
        }
      ]
    },
    {
      "cell_type": "markdown",
      "source": [
        "```\n",
        "** 符號放在清單list中，就可以不用以餘數的方法，更增加程式的可讀性\n",
        "```\n",
        "\n"
      ],
      "metadata": {
        "id": "ULDXog3UaEEj"
      }
    },
    {
      "cell_type": "code",
      "source": [
        "# 老師寫的2\n",
        "\n",
        "lsymbols = [\" \"] # 利用清單功能，將左邊的元素設置為空格\n",
        "rsymbols = [\"o\", \"x\", \"?\"] # 利用清單功能，將右邊的元素設置o.x以及?\n",
        "\n",
        "layer = 10 # 總層數(重複的東西，要拿出來)\n",
        "\n",
        "i = 0 # 設定i的初始值\n",
        "while i < layer: # 若i小於layer所設定的數量，則持續迴圈\n",
        "\n",
        "    # ** 絕妙一步，省去運行if/elif/else判別的時間 **\n",
        "    left = lsymbols[i % len(lsymbols)] # 根據i除以lsymbols清單長度的餘數，來決定選取清單中的哪一個元素\n",
        "    right = rsymbols[i % len(rsymbols)] # 根據i除以rsymbols清單長度的餘數，來決定選取清單中的哪一個元素\n",
        "\n",
        "    lcount = i # 紀錄當前的i值\n",
        "    rcount = layer - i # 紀錄layer的總數 -i的計算結果\n",
        "\n",
        "    print(left * lcount + right * rcount) # 顯示空白鍵及符號搭配的綜合結果\n",
        "    i = i + 1 # 計數器，將i值增加1"
      ],
      "metadata": {
        "colab": {
          "base_uri": "https://localhost:8080/"
        },
        "id": "sv66_blaYVLq",
        "outputId": "64ab250f-4d15-4419-8d60-0a9b3cba2ea8"
      },
      "execution_count": null,
      "outputs": [
        {
          "output_type": "stream",
          "name": "stdout",
          "text": [
            "oooooooooo\n",
            " xxxxxxxxx\n",
            "  ????????\n",
            "   ooooooo\n",
            "    xxxxxx\n",
            "     ?????\n",
            "      oooo\n",
            "       xxx\n",
            "        ??\n",
            "         o\n"
          ]
        }
      ]
    },
    {
      "cell_type": "markdown",
      "source": [
        "```\n",
        "練習3:\n",
        "第一行：ooooooo\n",
        "第二行：_ooooo_ (1個空白鍵*2)\n",
        "第三行：__ooo__ (2個空白鍵*2)\n",
        "第四行：___o___ (3個空白鍵*2)\n",
        "```\n",
        "\n"
      ],
      "metadata": {
        "id": "6L5pZ9AZaUmd"
      }
    },
    {
      "cell_type": "code",
      "source": [
        "# 練習3\n",
        "\n",
        "symbols1 = [\" \", \"-\", \"_\"] # 利用清單功能，設置元素1清單中的三個不同元素\n",
        "symbols2 = [\"o\", \"x\", \"?\"] # 利用清單功能，設置元素2清單中的三個不同元素\n",
        "\n",
        "layer = 10 # 總層數(重複的東西，要拿出來)\n",
        "\n",
        "i = 0 # 設定i的初始值\n",
        "while i < layer: # 若i小於layer所設定的數量，則持續迴圈\n",
        "\n",
        "    left = symbols1[i % len(symbols1)] # 根據i除以symbols1清單長度的餘數，來決定選取清單中的哪一個元素\n",
        "    middle = symbols2[i % len(symbols2)] # 根據i除以symbols2清單長度的餘數，來決定選取清單中的哪一個元素\n",
        "    right = symbols1[i % len(symbols1)] # 根據i除以symbols1清單長度的餘數，來決定選取清單中的哪一個元素\n",
        "\n",
        "    count1 = i # 紀錄當前的i值\n",
        "    count2 = 2 * (layer - i) - 1 # 為了使中間的元素每次都能少2個，計算方式為: \"2 * (layer的總數 -i) -1\"，並記錄該結果\n",
        "    count3 = i # 紀錄當前的i值\n",
        "\n",
        "    print(left * count1 + middle * count2 + right * count3) # 顯示各個元素之間的搭配綜合結果\n",
        "    i = i + 1 # 計數器，將i值增加1"
      ],
      "metadata": {
        "colab": {
          "base_uri": "https://localhost:8080/"
        },
        "id": "7t4LQXM8aNrV",
        "outputId": "3fc439da-82b6-4fb3-bb1c-cc2c57c4c903"
      },
      "execution_count": null,
      "outputs": [
        {
          "output_type": "stream",
          "name": "stdout",
          "text": [
            "ooooooooooooooooooo\n",
            "-xxxxxxxxxxxxxxxxx-\n",
            "__???????????????__\n",
            "   ooooooooooooo   \n",
            "----xxxxxxxxxxx----\n",
            "_____?????????_____\n",
            "      ooooooo      \n",
            "-------xxxxx-------\n",
            "________???________\n",
            "         o         \n"
          ]
        }
      ]
    },
    {
      "cell_type": "code",
      "source": [
        "# 老師寫的3\n",
        "\n",
        "left, mid, right = \" \", \"o\", \" \" # 左邊設置為空格，中間設置為o，右邊設置為空格\n",
        "\n",
        "layer = 10 # 總層數(重複的東西，要拿出來)\n",
        "\n",
        "i = 0 # 設定i的初始值\n",
        "while i < layer: # 若i小於layer所設定的數量，則持續迴圈\n",
        "\n",
        "    lcount = i # 紀錄當前的i值\n",
        "    rcount = i # 紀錄當前的i值\n",
        "\n",
        "    # 不要寫5 - (2 * i)，因為5是根據layer = 3所調整出的數字 (若修改layer時，該行就會自動修改)\n",
        "    mcount = (2 * layer - 1) - 2 * i # 為了使中間的元素每次都能少2個，計算方式為: \"(2 * layer -1) - (2 * i)\"，並記錄該結果\n",
        "\n",
        "    print(left * lcount +\n",
        "          mid * mcount +\n",
        "          right * rcount) # 顯示各個元素之間的搭配綜合結果\n",
        "    i = i + 1 # 計數器，將i值增加1"
      ],
      "metadata": {
        "colab": {
          "base_uri": "https://localhost:8080/"
        },
        "id": "pbDL3O2SewIT",
        "outputId": "a037c7fb-1cc4-4558-bc5f-e071f35ab3c1"
      },
      "execution_count": null,
      "outputs": [
        {
          "output_type": "stream",
          "name": "stdout",
          "text": [
            "ooooooooooooooooooo\n",
            " ooooooooooooooooo \n",
            "  ooooooooooooooo  \n",
            "   ooooooooooooo   \n",
            "    ooooooooooo    \n",
            "     ooooooooo     \n",
            "      ooooooo      \n",
            "       ooooo       \n",
            "        ooo        \n",
            "         o         \n"
          ]
        }
      ]
    },
    {
      "cell_type": "markdown",
      "source": [
        "```\n",
        "累加型迴圈\n",
        "** 列出詳細步驟\n",
        "\n",
        "例子：1+2+3...+10 等於多少?\n",
        "** +4的步驟: 前面累加總和=6, 6+4=10\n",
        "   +5的步驟: 前面累加總和=10, 10+5=15 ...\n",
        "** 要保持\"格子\"持續被代換，然後再加上的狀態\n",
        "```\n",
        "\n"
      ],
      "metadata": {
        "id": "-OD7wdQ-hKjc"
      }
    },
    {
      "cell_type": "code",
      "source": [
        "total = 0 # 首先，將總數量設置為0\n",
        "\n",
        "i = 0 # 設定i的初始值\n",
        "while i < 10: # 若i小於10，則持續迴圈\n",
        "    total = total + (i + 1) # 更新總數量，將其設置為\"舊的總數量\"加上\"i+1的計算結果\"\n",
        "    print(f\"total = {total}\") # 顯示更新後的總數量\n",
        "    i = i + 1 # 計數器，將i值增加1"
      ],
      "metadata": {
        "colab": {
          "base_uri": "https://localhost:8080/"
        },
        "id": "jnVrn37lfiPD",
        "outputId": "4cb89d0d-72ef-46bd-a45c-f811bcc42887"
      },
      "execution_count": null,
      "outputs": [
        {
          "output_type": "stream",
          "name": "stdout",
          "text": [
            "total = 1\n",
            "total = 3\n",
            "total = 6\n",
            "total = 10\n",
            "total = 15\n",
            "total = 21\n",
            "total = 28\n",
            "total = 36\n",
            "total = 45\n",
            "total = 55\n"
          ]
        }
      ]
    },
    {
      "cell_type": "markdown",
      "source": [
        "```\n",
        "除法練習：2除以7\n",
        "1. 2後面補0\n",
        "2. 20除以7 = 2餘6\n",
        "3. 下一位數，6後面補0\n",
        "4. 60除以7 = 8餘4 ...以此類推\n",
        "```\n",
        "\n"
      ],
      "metadata": {
        "id": "WGrZitaHj2TL"
      }
    },
    {
      "cell_type": "code",
      "source": [
        "# 練習4\n",
        "\n",
        "a = 2 # 將a設置為2\n",
        "b = 7 # 將b設置為7\n",
        "result = \"0.\" # 將result設置為字串\"0.\"\n",
        "layer = 10 # 總層數(重複的東西，要拿出來)\n",
        "\n",
        "i = 0 # 設定i的初始值\n",
        "while i < layer: # 若i小於layer所設定的數量，則持續迴圈\n",
        "    a_10 = 10 * a # 以a_10來記錄10乘以a的結果，因為根據除法步驟，若不夠除某個數字，會在後面補0\n",
        "    new_num = a_10 // b # 以new_num來記錄a_10除以b所計算出的商值\n",
        "\n",
        "    result = result + str(new_num) # 更新result的字串結果，將其設置為\"舊的result字串\"加上\"new_num的字串型態結果\"\n",
        "    print(f\"result = {result}\") # 顯示更新後的result字串\n",
        "\n",
        "    a = a_10 % b # 將a_10除以b所計算出的餘數，設置回去a，以進行後續的運算\n",
        "\n",
        "    i = i + 1 # 計數器，將i值增加1"
      ],
      "metadata": {
        "colab": {
          "base_uri": "https://localhost:8080/"
        },
        "id": "dj_oD1zXmvu1",
        "outputId": "03fba7d3-a4db-497f-ba04-7e7b0838053f"
      },
      "execution_count": null,
      "outputs": [
        {
          "output_type": "stream",
          "name": "stdout",
          "text": [
            "result = 0.2\n",
            "result = 0.28\n",
            "result = 0.285\n",
            "result = 0.2857\n",
            "result = 0.28571\n",
            "result = 0.285714\n",
            "result = 0.2857142\n",
            "result = 0.28571428\n",
            "result = 0.285714285\n",
            "result = 0.2857142857\n"
          ]
        }
      ]
    },
    {
      "cell_type": "code",
      "source": [
        "result = \"0.\" # 將result設置為字串\"0.\"\n",
        "type(result) # 確認result是\"字串\"型態"
      ],
      "metadata": {
        "colab": {
          "base_uri": "https://localhost:8080/"
        },
        "id": "DHlvEloelY1T",
        "outputId": "98da4f45-e141-4749-d47d-5e743f7b2a1c"
      },
      "execution_count": null,
      "outputs": [
        {
          "output_type": "execute_result",
          "data": {
            "text/plain": [
              "str"
            ]
          },
          "metadata": {},
          "execution_count": 53
        }
      ]
    },
    {
      "cell_type": "code",
      "source": [
        "# 練習4-2\n",
        "\n",
        "a = 2 # 將a設置為2\n",
        "b = 7 # 將b設置為7\n",
        "result = \"0.\" # 將result設置為字串\"0.\"\n",
        "layer = 10 # 總層數(重複的東西，要拿出來)\n",
        "\n",
        "i = 0 # 設定i的初始值\n",
        "while i < layer: # 若i小於layer所設定的數量，則持續迴圈\n",
        "    a_10 = 10 * a # 以a_10來記錄10乘以a的結果，因為根據除法步驟，若不夠除某個數字，會在後面補0\n",
        "    new_num = a_10 // b # 以new_num來記錄a_10除以b所計算出的商值\n",
        "\n",
        "    # 不需要在迴圈中持續轉浮點數，最後再轉換為浮點數即可\n",
        "    # if i == 0:\n",
        "    #     result = result + str(new_num)\n",
        "    #     result = float(result)\n",
        "    # else:\n",
        "    #     result = result + new_num * (0.1 ** (i+1))\n",
        "\n",
        "    result = result + str(new_num) # 更新result的字串結果，將其設置為\"舊的result字串\"加上\"new_num的字串型態結果\"\n",
        "    print(f\"result = {result}\") # 顯示更新後的result字串\n",
        "\n",
        "    a = a_10 % b # 將a_10除以b所計算出的餘數，設置回去a，以進行後續的運算\n",
        "\n",
        "    i = i + 1 # 計數器，將i值增加1\n",
        "\n",
        "result = float(result) # 最後，再將result字串轉為浮點數"
      ],
      "metadata": {
        "colab": {
          "base_uri": "https://localhost:8080/"
        },
        "id": "4ZmIw_gci4Fq",
        "outputId": "1dca23ed-57a7-4853-bbef-b1dd991a2f62"
      },
      "execution_count": null,
      "outputs": [
        {
          "output_type": "stream",
          "name": "stdout",
          "text": [
            "result = 0.2\n",
            "result = 0.28\n",
            "result = 0.285\n",
            "result = 0.2857\n",
            "result = 0.28571\n",
            "result = 0.285714\n",
            "result = 0.2857142\n",
            "result = 0.28571428\n",
            "result = 0.285714285\n",
            "result = 0.2857142857\n"
          ]
        }
      ]
    },
    {
      "cell_type": "code",
      "source": [
        "# 老師寫的4\n",
        "\n",
        "a = 2 # 將a設置為2\n",
        "b = 7 # 將b設置為7\n",
        "result = \"0.\" # 將result設置為字串\"0.\"\n",
        "\n",
        "i = 0 # 設定i的初始值\n",
        "while i < 10: # 若i小於10，則持續迴圈\n",
        "\n",
        "    # 2 -> 20\n",
        "    a_10 = 10 * a # 以a_10來記錄10乘以a的結果，因為根據除法步驟，若不夠除某個數字，會在後面補0\n",
        "\n",
        "    # 20 // 7 -> 0.2\n",
        "    result = result + str(a_10 // b) # 更新result的字串結果，將其設置為\"舊的result字串\"加上\"(a_10除以b所計算出的商值)的字串型態結果\"\n",
        "    print(f\"result = {result}\") # 顯示更新後的result字串\n",
        "\n",
        "    # 20 % 7\n",
        "    a = a_10 % b # 將a_10除以b所計算出的餘數，設置回去a，以進行後續的運算\n",
        "\n",
        "    i = i + 1 # 計數器，將i值增加1"
      ],
      "metadata": {
        "id": "swO3sHfIoyTi"
      },
      "execution_count": null,
      "outputs": []
    },
    {
      "cell_type": "markdown",
      "source": [
        "```\n",
        "練習: a = 3, b = 5\n",
        "只要結果=0.6，後面都不要\n",
        "使用語法: break\n",
        "```\n",
        "\n"
      ],
      "metadata": {
        "id": "GowhlGUEpn1-"
      }
    },
    {
      "cell_type": "code",
      "source": [
        "# 練習5\n",
        "\n",
        "a = 3 # 將a設置為3\n",
        "b = 5 # 將b設置為5\n",
        "result = \"0.\" # 將result設置為字串\"0.\"\n",
        "layer = 10 # 總層數(重複的東西，要拿出來)\n",
        "\n",
        "i = 0 # 設定i的初始值\n",
        "while i < layer: # 若i小於layer所設定的數量，則持續迴圈\n",
        "    a_10 = 10 * a # 以a_10來記錄10乘以a的結果，因為根據除法步驟，若不夠除某個數字，會在後面補0\n",
        "    new_num = a_10 // b # 以new_num來記錄a_10除以b所計算出的商值\n",
        "\n",
        "    result = result + str(new_num) # 更新result的字串結果，將其設置為\"舊的result字串\"加上\"new_num的字串型態結果\"\n",
        "    print(f\"result = {result}\") # 顯示更新後的result字串\n",
        "\n",
        "    a = a_10 % b # 將a_10除以b所計算出的餘數，設置回去a，以進行後續的運算\n",
        "\n",
        "    if a == 0: # 如果更新後的a值為0，則停止該迴圈\n",
        "        break\n",
        "\n",
        "    i = i + 1 # 計數器，將i值增加1"
      ],
      "metadata": {
        "colab": {
          "base_uri": "https://localhost:8080/"
        },
        "id": "eo82umUSpnjg",
        "outputId": "b2b17d09-3840-467f-da6c-219d725d0c3d"
      },
      "execution_count": null,
      "outputs": [
        {
          "output_type": "stream",
          "name": "stdout",
          "text": [
            "result = 0.6\n"
          ]
        }
      ]
    },
    {
      "cell_type": "code",
      "source": [
        "# 練習6\n",
        "\n",
        "a = 30 # 將a設置為30\n",
        "b = 7 # 將b設置為7\n",
        "result = str(a // b) + \".\" # 將result設置為(a除以b的商)的字串，加上字串\".\"\n",
        "layer = 10 # 總層數(重複的東西，要拿出來)\n",
        "\n",
        "a = a % b # 將a除以b所計算出的餘數，設置回去a，以進行後續的運算\n",
        "\n",
        "i = 0 # 設定i的初始值\n",
        "while i < layer: # 若i小於layer所設定的數量，則持續迴圈\n",
        "    a_10 = 10 * a # 以a_10來記錄10乘以a的結果，因為根據除法步驟，若不夠除某個數字，會在後面補0\n",
        "    new_num = a_10 // b # 以new_num來記錄a_10除以b所計算出的商值\n",
        "\n",
        "    result = result + str(new_num) # 更新result的字串結果，將其設置為\"舊的result字串\"加上\"new_num的字串型態結果\"\n",
        "    print(f\"result = {result}\") # 顯示更新後的result字串\n",
        "\n",
        "    a = a_10 % b # 將a_10除以b所計算出的餘數，設置回去a，以進行後續的運算\n",
        "\n",
        "    i = i + 1 # 計數器，將i值增加1"
      ],
      "metadata": {
        "id": "o7WbgqpHrVVs",
        "colab": {
          "base_uri": "https://localhost:8080/"
        },
        "outputId": "c7b9312a-58ce-4b27-ebe4-6c5fb4687c24"
      },
      "execution_count": 19,
      "outputs": [
        {
          "output_type": "stream",
          "name": "stdout",
          "text": [
            "result = 4.2\n",
            "result = 4.28\n",
            "result = 4.285\n",
            "result = 4.2857\n",
            "result = 4.28571\n",
            "result = 4.285714\n",
            "result = 4.2857142\n",
            "result = 4.28571428\n",
            "result = 4.285714285\n",
            "result = 4.2857142857\n"
          ]
        }
      ]
    },
    {
      "cell_type": "code",
      "source": [
        "# 練習6-2\n",
        "\n",
        "a = 30 # 將a設置為30\n",
        "b = 7 # 將b設置為7\n",
        "result = \".\" # 將result設置為字串\".\"\n",
        "layer = 10 # 總層數(重複的東西，要拿出來)\n",
        "\n",
        "i = 0 # 設定i的初始值\n",
        "while i < layer: # 若i小於layer所設定的數量，則持續迴圈\n",
        "\n",
        "    if a >= 10: # 如果a值大於等於10，則記錄下a除以b的商值，並更新在result字串前\n",
        "        new_num = a // b # 以new_num來記錄a除以b所計算出的商值\n",
        "\n",
        "        result = str(new_num) + result # 更新result的字串結果，將其設置為\"new_num的字串型態結果\"加上\"舊的result字串\"\n",
        "        print(f\"result = {result}\") # 顯示更新後的result字串\n",
        "\n",
        "        a = a % b # 將a除以b所計算出的餘數，設置回去a，以進行後續的運算\n",
        "\n",
        "        i = i + 1 # 計數器，將i值增加1\n",
        "\n",
        "    elif a < 10: # 如果a值小於於10，則記錄下a除以b的商值，並更新在result字串後\n",
        "        a_10 = 10 * a # 以a_10來記錄10乘以a的結果，因為根據除法步驟，若不夠除某個數字，會在後面補0\n",
        "        new_num = a_10 // b # 以new_num來記錄a_10除以b所計算出的商值\n",
        "\n",
        "        result = result + str(new_num) # 更新result的字串結果，將其設置為\"舊的result字串\"加上\"new_num的字串型態結果\"\n",
        "        print(f\"result = {result}\") # 顯示更新後的result字串\n",
        "\n",
        "        a = a_10 % b # 將a_10除以b所計算出的餘數，設置回去a，以進行後續的運算\n",
        "\n",
        "        i = i + 1 # 計數器，將i值增加1"
      ],
      "metadata": {
        "colab": {
          "base_uri": "https://localhost:8080/"
        },
        "id": "Hk2Jp3d0t2Hf",
        "outputId": "9c2080fa-a233-447e-86e3-ff10412286bb"
      },
      "execution_count": 20,
      "outputs": [
        {
          "output_type": "stream",
          "name": "stdout",
          "text": [
            "result = 4.\n",
            "result = 4.2\n",
            "result = 4.28\n",
            "result = 4.285\n",
            "result = 4.2857\n",
            "result = 4.28571\n",
            "result = 4.285714\n",
            "result = 4.2857142\n",
            "result = 4.28571428\n",
            "result = 4.285714285\n"
          ]
        }
      ]
    },
    {
      "cell_type": "markdown",
      "source": [
        "```\n",
        "練習: 確認隨機數是否夠隨機? 是否有偏重某一個數字?\n",
        "```\n",
        "\n"
      ],
      "metadata": {
        "id": "uDDE-XzCsvU9"
      }
    },
    {
      "cell_type": "code",
      "source": [
        "# 練習7\n",
        "\n",
        "import random # 匯入random模組，以使用假隨機數\n",
        "\n",
        "count0, count1 = 0, 0 # 將count0與count1皆設定為0\n",
        "times = 100 # 設定樣本數(隨機的總次數)為100\n",
        "i = 0 # 設定i的初始值\n",
        "\n",
        "while i < times: # 若i小於times所設定的數量，則持續迴圈\n",
        "    num = random.randint(0, 1) # 從0和1中挑一個數字，並記錄到num中\n",
        "\n",
        "    if num == 0: # 如果這一次的num為0，則count0的次數增加1次\n",
        "        count0 = count0 + 1\n",
        "    else: # 如果這一次的num為1(其他情況)，則count1的次數增加1次\n",
        "        count1 = count1 + 1\n",
        "\n",
        "    i = i + 1 # 計數器，將i值增加1\n",
        "\n",
        "print(f\"count0 =  {count0} and count1 = {count1}\") # 顯示count0以及count1的總數分別是多少"
      ],
      "metadata": {
        "colab": {
          "base_uri": "https://localhost:8080/"
        },
        "id": "pDfw913Msmh3",
        "outputId": "8a2c748c-3bb3-43cc-8a37-48d902fb3a56"
      },
      "execution_count": null,
      "outputs": [
        {
          "output_type": "stream",
          "name": "stdout",
          "text": [
            "count0 =  61 and count1 = 39\n"
          ]
        }
      ]
    },
    {
      "cell_type": "code",
      "source": [
        "# 老師寫的7\n",
        "\n",
        "import random # 匯入random模組，以使用假隨機數\n",
        "\n",
        "count0, count1 = 0, 0 # 將count0與count1皆設定為0\n",
        "times = 100 # 設定樣本數(隨機的總次數)為100\n",
        "i = 0 # 設定i的初始值\n",
        "\n",
        "while i < times: # 若i小於times所設定的數量，則持續迴圈\n",
        "    n = random.randint(0, 1) # 從0和1中挑一個數字，並記錄到n中\n",
        "\n",
        "    if n == 0: # 如果這一次的n為0，則count0的次數增加1次\n",
        "        count0 = count0 + 1\n",
        "    elif n == 1: # 不寫else, 確保出錯時程式會停止 (如果這一次的n為1，則count1的次數增加1次)\n",
        "        count1 = count1 + 1\n",
        "\n",
        "    i = i + 1 # 計數器，將i值增加1\n",
        "\n",
        "print(f\"count0 =  {count0} and count1 = {count1}\") # 顯示count0以及count1的總數分別是多少"
      ],
      "metadata": {
        "colab": {
          "base_uri": "https://localhost:8080/"
        },
        "id": "fzrv60X1tl8P",
        "outputId": "340f8940-e905-4f50-bcc3-64c9bdb3305c"
      },
      "execution_count": 22,
      "outputs": [
        {
          "output_type": "stream",
          "name": "stdout",
          "text": [
            "count0 =  42 and count1 = 58\n"
          ]
        }
      ]
    },
    {
      "cell_type": "markdown",
      "source": [
        "```\n",
        "練習: 假設隨機數是0~9的話，該怎麼辦?\n",
        "```\n",
        "\n"
      ],
      "metadata": {
        "id": "Hg2QDGfGwLQR"
      }
    },
    {
      "cell_type": "code",
      "source": [
        "# 練習8\n",
        "\n",
        "import random # 匯入random模組，以使用假隨機數\n",
        "\n",
        "counts = [0] * 10 # 使用清單功能，設定counts共有10個元素，初始值都是0\n",
        "\n",
        "times = 100 # 設定樣本數(隨機的總次數)為100\n",
        "i = 0 # 設定i的初始值\n",
        "\n",
        "while i < times: # 若i小於times所設定的數量，則持續迴圈\n",
        "    num = random.randint(0, 9) # 從0~9中挑一個數字，並記錄到num中\n",
        "    counts[num] = counts[num] + 1 # 利用清單功能，如果這一次增加了第num個元素，則counts中第num個元素的次數增加1次\n",
        "    # 範例: 如果隨機到1，則counts中的第1個元素的次數會增加1\n",
        "\n",
        "    i = i + 1 # 計數器，將i值增加1\n",
        "\n",
        "print(f\"counts =  {counts}\") # 顯示counts的統計結果，以了解每個元素各自出現幾次\n",
        "\n",
        "total = sum(counts) # 加總counts的數量，並記錄到total中\n",
        "print(f\"counts_time =  {total}\") # 顯示total的數值，以確保與times(樣本數)一致"
      ],
      "metadata": {
        "colab": {
          "base_uri": "https://localhost:8080/"
        },
        "id": "xm-ABUPMudq6",
        "outputId": "6c607fb5-d653-4b57-af58-a7e0bb8bd85f"
      },
      "execution_count": null,
      "outputs": [
        {
          "output_type": "stream",
          "name": "stdout",
          "text": [
            "counts =  [11, 8, 19, 6, 11, 13, 8, 10, 5, 9]\n",
            "counts_time =  100\n"
          ]
        }
      ]
    },
    {
      "cell_type": "code",
      "source": [
        "# 老師寫的8\n",
        "\n",
        "import random # 匯入random模組，以使用假隨機數\n",
        "\n",
        "counts = [0] * 10 # 使用清單功能，設定counts共有10個元素，初始值都是0\n",
        "times = 1000 # 設定樣本數(隨機的總次數)為1000\n",
        "i = 0 # 設定i的初始值\n",
        "\n",
        "while i < times: # 若i小於times所設定的數量，則持續迴圈\n",
        "    n = random.randint(0, 9) # 從0~9中挑一個數字，並記錄到n中\n",
        "    counts[n] = counts[n] + 1 # 利用清單功能，如果這一次增加了第n個元素，則counts中第n個元素的次數增加1次\n",
        "    # print(n, counts) # 顯示隨機的數字是多少，以及counts的更新結果\n",
        "\n",
        "    i = i + 1 # 計數器，將i值增加1\n",
        "\n",
        "print(f\"counts =  {counts}\") # 顯示counts的統計結果，以了解每個元素各自出現幾次"
      ],
      "metadata": {
        "colab": {
          "base_uri": "https://localhost:8080/"
        },
        "id": "Jn0c2h-zvzaz",
        "outputId": "bd3dc96b-43a3-4c34-8dcb-b9fb938a965b"
      },
      "execution_count": null,
      "outputs": [
        {
          "output_type": "stream",
          "name": "stdout",
          "text": [
            "counts =  [99, 97, 114, 92, 96, 106, 99, 92, 109, 96]\n"
          ]
        }
      ]
    },
    {
      "cell_type": "code",
      "source": [
        "# 老師寫的8-2\n",
        "\n",
        "import random # 匯入random模組，以使用假隨機數\n",
        "\n",
        "LOW, HIGH = 2, 11 # 設定最低值LOW為2，以及最高值HIGH為11\n",
        "counts = [0] * (HIGH + 1) # 使用清單功能，設定counts共有\"HIGH的數值 +1\"個元素，初始值都是0\n",
        "# counts = [0] * (HIGH - LOW + 1) # 使用清單功能，設定counts共有\"HIGH的數值 -LOW的數值 +1\"個元素，初始值都是0\n",
        "times = 1000 # 設定樣本數(隨機的總次數)為1000\n",
        "i = 0 # 設定i的初始值\n",
        "\n",
        "while i < times: # 若i小於times所設定的數量，則持續迴圈\n",
        "    n = random.randint(LOW , HIGH) # 從最低值~最高值的範圍中挑一個數字，並記錄到n中\n",
        "    counts[n] = counts[n] + 1 # 利用清單功能，如果這一次增加了第n個元素，則counts中第n個元素的次數增加1次\n",
        "    # counts[n-LOW] = counts[n-LOW] + 1 # 利用清單功能，如果這一次增加了第\"n -LOW\"個元素，則counts中第\"n -LOW\"個元素的次數增加1次\n",
        "    # print(n, counts) # 顯示隨機的數字是多少，以及counts的更新結果\n",
        "\n",
        "    i = i + 1 # 計數器，將i值增加1\n",
        "\n",
        "print(f\"counts =  {counts}\") # 顯示counts的統計結果，以了解每個元素各自出現幾次"
      ],
      "metadata": {
        "colab": {
          "base_uri": "https://localhost:8080/"
        },
        "id": "zxQj9bDNyAYo",
        "outputId": "9de1aafc-d4f1-4324-d657-1ac485c8a13d"
      },
      "execution_count": null,
      "outputs": [
        {
          "output_type": "stream",
          "name": "stdout",
          "text": [
            "counts =  [0, 0, 80, 101, 106, 98, 98, 83, 94, 110, 119, 111]\n"
          ]
        }
      ]
    },
    {
      "cell_type": "markdown",
      "source": [
        "```\n",
        "課後練習: 統計字串中的英文字母, 出現的次數\n",
        "```\n",
        "\n"
      ],
      "metadata": {
        "id": "fyv_9_FJyvdJ"
      }
    },
    {
      "cell_type": "code",
      "source": [
        "# 老師給的初始設定\n",
        "\n",
        "s = \"wjoilkcknkqinbapaoy\" # 設定字串s的內容\n",
        "\n",
        "counts = [0] * 26 # 使用清單功能，設定counts共有26個元素(由於a~z共有26個字母)，初始值都是0\n",
        "\n",
        "i = 0 # 設定i的初始值\n",
        "while i < len(s): # 若i小於字串s的長度值，則持續迴圈\n",
        "    c = s[i] # 從字串s中提取第i個字，並儲存到c中\n",
        "\n",
        "    # print(c)\n",
        "    # 事實上，字母存在你的電腦中:\n",
        "    # ASCII編碼: a -> 0101010\n",
        "    # ord(\"a\") -> 97\n",
        "    # 轉換成編碼，然後統計出現次數\n",
        "\n",
        "    i = i + 1 # 計數器，將i值增加1\n",
        "\n",
        "# 幫我印的漂亮點(26次的迴圈)\n",
        "# a: 三次"
      ],
      "metadata": {
        "id": "BORAZtapy3xw"
      },
      "execution_count": null,
      "outputs": []
    },
    {
      "cell_type": "code",
      "source": [
        "# 把字母轉編碼\n",
        "ord(\"a\")\n",
        "\n",
        "# 把編碼轉字母\n",
        "chr(97)"
      ],
      "metadata": {
        "id": "KvSFZ9r_0J2H"
      },
      "execution_count": null,
      "outputs": []
    },
    {
      "cell_type": "code",
      "source": [
        "# 回家作業練習(用list做)\n",
        "\n",
        "string = \"wjoilkcknkqfjinbapaoygbidwqucibvcqwmozpkapc\" # 設定字串string的內容\n",
        "\n",
        "counts = [0] * 26 # 使用清單功能，設定counts共有26個元素(由於a~z共有26個字母)，初始值都是0\n",
        "\n",
        "i = 0 # 設定i的初始值\n",
        "while i < len(string): # 若i小於字串string的長度值，則持續迴圈\n",
        "    element = ord(string[i]) - ord(\"a\") # 定義element，由於a的編碼代號為97，在將字母轉成代碼後，減去a所代表的代碼97，元素便會從0開始排列\n",
        "    counts[element] = counts[element] + 1 # 利用清單功能，如果這一次增加了第element個元素，則counts中第element個元素的次數增加1次\n",
        "\n",
        "    i = i + 1 # 計數器，將i值增加1\n",
        "\n",
        "print(f\"counts =  {counts}\") # 顯示counts的統計結果，以了解每個元素各自出現幾次\n",
        "\n",
        "total = sum(counts) # 加總counts的數量，並記錄到total中\n",
        "print(f\"counts_time =  {total}\") # 顯示total的數值，以了解該字串共有幾個英文字母"
      ],
      "metadata": {
        "id": "_2jhzPR70BHN",
        "colab": {
          "base_uri": "https://localhost:8080/"
        },
        "outputId": "ad4bde8e-e342-4b22-8212-6a504b362761"
      },
      "execution_count": 1,
      "outputs": [
        {
          "output_type": "stream",
          "name": "stdout",
          "text": [
            "counts =  [3, 3, 4, 1, 0, 1, 1, 0, 4, 2, 4, 1, 1, 2, 3, 3, 3, 0, 0, 0, 1, 1, 3, 0, 1, 1]\n",
            "counts_time =  43\n"
          ]
        }
      ]
    },
    {
      "cell_type": "code",
      "source": [
        "# 回家作業練習-進階延伸\n",
        "\n",
        "string = \"wjoilkcknkqfjic\" # 設定字串string的內容\n",
        "\n",
        "counts = [0] * 26 # 使用清單功能，設定counts共有26個元素(由於a~z共有26個字母)，初始值都是0\n",
        "basic = ord(\"a\") # 設定basic為a的編碼值97\n",
        "\n",
        "i = 0 # 設定i的初始值\n",
        "while i < len(string): # 若i小於字串string的長度值，則持續迴圈\n",
        "    element = ord(string[i]) - basic # 定義element值，在將字母轉成代碼後，減去basic(等於a所代表的代碼97)，元素便會從0開始排列\n",
        "    counts[element] = counts[element] + 1 # 利用清單功能，如果這一次增加了第element個元素，則counts中第element個元素的次數增加1次\n",
        "\n",
        "    alphabet = chr(element + basic) # 將element值加上basic值後，再利用chr方法，即可將數值轉換為英文字母\n",
        "    print(f\"字母{alphabet}出現了{counts[element]}次\") # 顯示某個字母出現第幾次\n",
        "    print(\" \") # 為方便後續閱讀，顯示一個空格以分行\n",
        "\n",
        "    i = i + 1 # 計數器，將i值增加1\n",
        "\n",
        "total = sum(counts) # 加總counts的數量，並記錄到total中\n",
        "print(f\"該字串總共有 {total} 個英文字母\") # 顯示total的數值，以了解該字串共有幾個英文字母"
      ],
      "metadata": {
        "colab": {
          "base_uri": "https://localhost:8080/"
        },
        "id": "2_WdLIqj7Piy",
        "outputId": "a859d7e5-2e43-4e92-86d8-9724cc29c8b5"
      },
      "execution_count": 2,
      "outputs": [
        {
          "output_type": "stream",
          "name": "stdout",
          "text": [
            "字母w出現了1次\n",
            " \n",
            "字母j出現了1次\n",
            " \n",
            "字母o出現了1次\n",
            " \n",
            "字母i出現了1次\n",
            " \n",
            "字母l出現了1次\n",
            " \n",
            "字母k出現了1次\n",
            " \n",
            "字母c出現了1次\n",
            " \n",
            "字母k出現了2次\n",
            " \n",
            "字母n出現了1次\n",
            " \n",
            "字母k出現了3次\n",
            " \n",
            "字母q出現了1次\n",
            " \n",
            "字母f出現了1次\n",
            " \n",
            "字母j出現了2次\n",
            " \n",
            "字母i出現了2次\n",
            " \n",
            "字母c出現了2次\n",
            " \n",
            "該字串總共有 15 個英文字母\n"
          ]
        }
      ]
    }
  ]
}