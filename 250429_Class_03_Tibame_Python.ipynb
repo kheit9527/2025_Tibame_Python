{
  "nbformat": 4,
  "nbformat_minor": 0,
  "metadata": {
    "colab": {
      "provenance": [],
      "authorship_tag": "ABX9TyONxqOWbuB0KkkANBUdHshl",
      "include_colab_link": true
    },
    "kernelspec": {
      "name": "python3",
      "display_name": "Python 3"
    },
    "language_info": {
      "name": "python"
    }
  },
  "cells": [
    {
      "cell_type": "markdown",
      "metadata": {
        "id": "view-in-github",
        "colab_type": "text"
      },
      "source": [
        "<a href=\"https://colab.research.google.com/github/kheit9527/2025_Tibame_Python/blob/main/250429_Class_03_Tibame_Python.ipynb\" target=\"_parent\"><img src=\"https://colab.research.google.com/assets/colab-badge.svg\" alt=\"Open In Colab\"/></a>"
      ]
    },
    {
      "cell_type": "markdown",
      "source": [
        "```\n",
        "練習:\n",
        "第一行：o\n",
        "第二行：oo\n",
        "第三行：ooo\n",
        "第四行：oooo\n",
        "```\n",
        "\n"
      ],
      "metadata": {
        "id": "udJp2uSYOk_3"
      }
    },
    {
      "cell_type": "code",
      "source": [
        "print(\"abc\" * 4) # 字串可以重複，重複四次\n",
        "print([20, 30] * 4) # 清單也可以重複，重複四次"
      ],
      "metadata": {
        "colab": {
          "base_uri": "https://localhost:8080/"
        },
        "id": "IcgNXDZfPHbQ",
        "outputId": "ea16cde0-e4f9-4f3a-8ad4-72f1c839be8c"
      },
      "execution_count": null,
      "outputs": [
        {
          "output_type": "stream",
          "name": "stdout",
          "text": [
            "abcabcabcabc\n",
            "[20, 30, 20, 30, 20, 30, 20, 30]\n"
          ]
        }
      ]
    },
    {
      "cell_type": "code",
      "execution_count": null,
      "metadata": {
        "colab": {
          "base_uri": "https://localhost:8080/"
        },
        "id": "2Ts0E6haJv9z",
        "outputId": "028333b6-5527-4967-a042-c33389864e01"
      },
      "outputs": [
        {
          "output_type": "stream",
          "name": "stdout",
          "text": [
            "o\n",
            "oo\n",
            "ooo\n",
            "oooo\n",
            "ooooo\n",
            "oooooo\n",
            "ooooooo\n",
            "oooooooo\n",
            "ooooooooo\n",
            "oooooooooo\n"
          ]
        }
      ],
      "source": [
        "i = 0\n",
        "while i < 10:\n",
        "    print(\"o\" * (i + 1))\n",
        "    i = i + 1"
      ]
    },
    {
      "cell_type": "markdown",
      "source": [
        "```\n",
        "練習:\n",
        "第一行：oooo\n",
        "第二行：_ooo (1個空白鍵)\n",
        "第三行：__oo (2個空白鍵)\n",
        "第四行：___o (3個空白鍵)\n",
        "\n",
        "** 多寫幾行不會死，痛一次但會爽好幾次\n",
        "** 提升可讀性 -> 同時提升修改程式的方便性\n",
        "** 利用代號，取代可調整/修改的部分\n",
        "```\n",
        "\n"
      ],
      "metadata": {
        "id": "hLVLA9OcP1Jq"
      }
    },
    {
      "cell_type": "code",
      "source": [
        "i = 0\n",
        "while i < 10:\n",
        "    print(\" \" * i + \"o\" * (10 - i))\n",
        "    i = i + 1"
      ],
      "metadata": {
        "colab": {
          "base_uri": "https://localhost:8080/"
        },
        "id": "LRj7TBpfP83a",
        "outputId": "3ee3c279-7e2f-4064-cd3b-6f550998f031"
      },
      "execution_count": null,
      "outputs": [
        {
          "output_type": "stream",
          "name": "stdout",
          "text": [
            "oooooooooo\n",
            " ooooooooo\n",
            "  oooooooo\n",
            "   ooooooo\n",
            "    oooooo\n",
            "     ooooo\n",
            "      oooo\n",
            "       ooo\n",
            "        oo\n",
            "         o\n"
          ]
        }
      ]
    },
    {
      "cell_type": "code",
      "source": [
        "# 修正\n",
        "\n",
        "left, right = \" \", \"o\" # 左邊設置為空格，右邊設置為o\n",
        "layer = 10 # 重複的東西，要拿出來\n",
        "\n",
        "i = 0\n",
        "while i < layer:\n",
        "\n",
        "    lcount = i\n",
        "    rcount = layer - i\n",
        "\n",
        "    print(left * lcount + right * rcount)\n",
        "    i = i + 1"
      ],
      "metadata": {
        "colab": {
          "base_uri": "https://localhost:8080/"
        },
        "id": "nYOSxYFuRcvn",
        "outputId": "1c370bcc-df62-46f0-dd5c-c34e4a1fe501"
      },
      "execution_count": null,
      "outputs": [
        {
          "output_type": "stream",
          "name": "stdout",
          "text": [
            "oooooooooo\n",
            " ooooooooo\n",
            "  oooooooo\n",
            "   ooooooo\n",
            "    oooooo\n",
            "     ooooo\n",
            "      oooo\n",
            "       ooo\n",
            "        oo\n",
            "         o\n"
          ]
        }
      ]
    },
    {
      "cell_type": "code",
      "source": [
        "# 變化形態\n",
        "\n",
        "left, right = \" \", \"o\" # 左邊設置為空格，右邊設置為o\n",
        "layer = 10 # 重複的東西，要拿出來\n",
        "\n",
        "i = 0\n",
        "while i < layer:\n",
        "\n",
        "    lcount = layer - i - 1\n",
        "    rcount = i + 1\n",
        "\n",
        "    print(left * lcount + right * rcount)\n",
        "    i = i + 1"
      ],
      "metadata": {
        "colab": {
          "base_uri": "https://localhost:8080/"
        },
        "id": "qhiR3-tMTpi5",
        "outputId": "519372ec-73fc-4bd3-b4d8-d2b0a4b49fd5"
      },
      "execution_count": null,
      "outputs": [
        {
          "output_type": "stream",
          "name": "stdout",
          "text": [
            "         o\n",
            "        oo\n",
            "       ooo\n",
            "      oooo\n",
            "     ooooo\n",
            "    oooooo\n",
            "   ooooooo\n",
            "  oooooooo\n",
            " ooooooooo\n",
            "oooooooooo\n"
          ]
        }
      ]
    },
    {
      "cell_type": "code",
      "source": [
        "# 練習\n",
        "\n",
        "ele1, ele2, ele3, space = \"o\", \"x\", \"a\", \" \"\n",
        "layer = 10\n",
        "\n",
        "i = 0\n",
        "while i < layer:\n",
        "\n",
        "    lcount = i\n",
        "    rcount = layer - i\n",
        "\n",
        "    if i % 2 == 0:\n",
        "        print(space * lcount + ele1 * rcount)\n",
        "        i = i + 1\n",
        "    elif i % 3 == 1:\n",
        "        print(space * lcount + ele2 * rcount)\n",
        "        i = i + 1\n",
        "    else:\n",
        "        print(space * lcount + ele3 * rcount)\n",
        "        i = i + 1"
      ],
      "metadata": {
        "colab": {
          "base_uri": "https://localhost:8080/"
        },
        "id": "dLtfKDzLUla6",
        "outputId": "b22194e4-fffc-4297-991c-58f8e83ee8e1"
      },
      "execution_count": null,
      "outputs": [
        {
          "output_type": "stream",
          "name": "stdout",
          "text": [
            "oooooooooo\n",
            " xxxxxxxxx\n",
            "  aaaaaaaa\n",
            "   ooooooo\n",
            "    xxxxxx\n",
            "     aaaaa\n",
            "      oooo\n",
            "       xxx\n",
            "        aa\n",
            "         o\n"
          ]
        }
      ]
    },
    {
      "cell_type": "code",
      "source": [
        "# 老師寫的\n",
        "\n",
        "layer = 10\n",
        "\n",
        "i = 0\n",
        "while i < layer:\n",
        "\n",
        "    if i % 2 == 0:\n",
        "        left, right = \" \", \"o\"\n",
        "    else:\n",
        "        left, right = \" \", \"x\"\n",
        "\n",
        "    lcount = i\n",
        "    rcount = layer - i\n",
        "\n",
        "    print(left * lcount + right * rcount)\n",
        "    i = i + 1"
      ],
      "metadata": {
        "colab": {
          "base_uri": "https://localhost:8080/"
        },
        "id": "MEQiwdBiWxaK",
        "outputId": "8bb1a341-2c4a-4068-c353-7a21b8c345cf"
      },
      "execution_count": null,
      "outputs": [
        {
          "output_type": "stream",
          "name": "stdout",
          "text": [
            "oooooooooo\n",
            " xxxxxxxxx\n",
            "  oooooooo\n",
            "   xxxxxxx\n",
            "    oooooo\n",
            "     xxxxx\n",
            "      oooo\n",
            "       xxx\n",
            "        oo\n",
            "         x\n"
          ]
        }
      ]
    },
    {
      "cell_type": "code",
      "source": [
        "s = \"apple\"\n",
        "len(s) # key是(0,1,2,3,4)，但長度是5"
      ],
      "metadata": {
        "colab": {
          "base_uri": "https://localhost:8080/"
        },
        "id": "WYyHUO8zXoN4",
        "outputId": "c4d2697d-8245-4767-bf96-e6aba088269e"
      },
      "execution_count": null,
      "outputs": [
        {
          "output_type": "execute_result",
          "data": {
            "text/plain": [
              "5"
            ]
          },
          "metadata": {},
          "execution_count": 16
        }
      ]
    },
    {
      "cell_type": "code",
      "source": [
        "# 練習2\n",
        "\n",
        "lsymbols = [\" \"]\n",
        "rsymbols = [\"o\", \"x\", \"?\"]\n",
        "\n",
        "layer = 10\n",
        "\n",
        "data_size = len(rsymbols)\n",
        "print(f\"data_size = {data_size}\")\n",
        "print(\" \")\n",
        "\n",
        "i = 0\n",
        "while i < layer:\n",
        "\n",
        "    if i % data_size == 0:\n",
        "        left, right = lsymbols[0], rsymbols[0]\n",
        "    elif i % data_size == 1:\n",
        "        left, right = lsymbols[0], rsymbols[1]\n",
        "    else:\n",
        "        left, right = lsymbols[0], rsymbols[2]\n",
        "\n",
        "    lcount = i\n",
        "    rcount = layer - i\n",
        "\n",
        "    print(left * lcount + right * rcount)\n",
        "    i = i + 1"
      ],
      "metadata": {
        "colab": {
          "base_uri": "https://localhost:8080/"
        },
        "id": "KFKok1JsYBBw",
        "outputId": "f6e82748-b49f-4231-f0ec-dcc01c840aad"
      },
      "execution_count": null,
      "outputs": [
        {
          "output_type": "stream",
          "name": "stdout",
          "text": [
            "data_size = 3\n",
            " \n",
            "oooooooooo\n",
            " xxxxxxxxx\n",
            "  ????????\n",
            "   ooooooo\n",
            "    xxxxxx\n",
            "     ?????\n",
            "      oooo\n",
            "       xxx\n",
            "        ??\n",
            "         o\n"
          ]
        }
      ]
    },
    {
      "cell_type": "markdown",
      "source": [
        "```\n",
        "** 符號放在清單list中，就可以不用以餘數的方法，更增加程式的可讀性\n",
        "```\n",
        "\n"
      ],
      "metadata": {
        "id": "ULDXog3UaEEj"
      }
    },
    {
      "cell_type": "code",
      "source": [
        "# 老師寫的2\n",
        "\n",
        "lsymbols = [\" \"]\n",
        "rsymbols = [\"o\", \"x\", \"?\"]\n",
        "\n",
        "layer = 10\n",
        "\n",
        "i = 0\n",
        "while i < layer:\n",
        "\n",
        "    left = lsymbols[i % len(lsymbols)]\n",
        "    right = rsymbols[i % len(rsymbols)]\n",
        "\n",
        "    lcount = i\n",
        "    rcount = layer - i\n",
        "\n",
        "    print(left * lcount + right * rcount)\n",
        "    i = i + 1"
      ],
      "metadata": {
        "colab": {
          "base_uri": "https://localhost:8080/"
        },
        "id": "sv66_blaYVLq",
        "outputId": "64ab250f-4d15-4419-8d60-0a9b3cba2ea8"
      },
      "execution_count": null,
      "outputs": [
        {
          "output_type": "stream",
          "name": "stdout",
          "text": [
            "oooooooooo\n",
            " xxxxxxxxx\n",
            "  ????????\n",
            "   ooooooo\n",
            "    xxxxxx\n",
            "     ?????\n",
            "      oooo\n",
            "       xxx\n",
            "        ??\n",
            "         o\n"
          ]
        }
      ]
    },
    {
      "cell_type": "markdown",
      "source": [
        "```\n",
        "練習3:\n",
        "第一行：ooooooo\n",
        "第二行：_ooooo_ (1個空白鍵*2)\n",
        "第三行：__ooo__ (2個空白鍵*2)\n",
        "第四行：___o___ (3個空白鍵*2)\n",
        "```\n",
        "\n"
      ],
      "metadata": {
        "id": "6L5pZ9AZaUmd"
      }
    },
    {
      "cell_type": "code",
      "source": [
        "# 練習3\n",
        "\n",
        "symbols1 = [\" \", \"-\", \"_\"]\n",
        "symbols2 = [\"o\", \"x\", \"?\"]\n",
        "\n",
        "layer = 10\n",
        "\n",
        "i = 0\n",
        "while i < layer:\n",
        "\n",
        "    left = symbols1[i % len(symbols1)]\n",
        "    middle = symbols2[i % len(symbols2)]\n",
        "    right = symbols1[i % len(symbols1)]\n",
        "\n",
        "    count1 = i\n",
        "    count2 = 2 * (layer - i) - 1\n",
        "    count3 = i\n",
        "\n",
        "    print(left * count1 + middle * count2 + right * count3)\n",
        "    i = i + 1"
      ],
      "metadata": {
        "colab": {
          "base_uri": "https://localhost:8080/"
        },
        "id": "7t4LQXM8aNrV",
        "outputId": "3fc439da-82b6-4fb3-bb1c-cc2c57c4c903"
      },
      "execution_count": null,
      "outputs": [
        {
          "output_type": "stream",
          "name": "stdout",
          "text": [
            "ooooooooooooooooooo\n",
            "-xxxxxxxxxxxxxxxxx-\n",
            "__???????????????__\n",
            "   ooooooooooooo   \n",
            "----xxxxxxxxxxx----\n",
            "_____?????????_____\n",
            "      ooooooo      \n",
            "-------xxxxx-------\n",
            "________???________\n",
            "         o         \n"
          ]
        }
      ]
    },
    {
      "cell_type": "code",
      "source": [
        "# 老師寫的3\n",
        "\n",
        "left, mid, right = \" \", \"o\", \" \"\n",
        "\n",
        "layer = 10\n",
        "\n",
        "i = 0\n",
        "while i < layer:\n",
        "\n",
        "    lcount = i\n",
        "    rcount = i\n",
        "\n",
        "    # 不要寫5 - (2 * i)，因為5是根據layer=3所調整出的數字\n",
        "    mcount = (2 * layer - 1) - 2 * i\n",
        "\n",
        "    print(left * lcount +\n",
        "          mid * mcount +\n",
        "          right * rcount)\n",
        "    i = i + 1"
      ],
      "metadata": {
        "colab": {
          "base_uri": "https://localhost:8080/"
        },
        "id": "pbDL3O2SewIT",
        "outputId": "a037c7fb-1cc4-4558-bc5f-e071f35ab3c1"
      },
      "execution_count": null,
      "outputs": [
        {
          "output_type": "stream",
          "name": "stdout",
          "text": [
            "ooooooooooooooooooo\n",
            " ooooooooooooooooo \n",
            "  ooooooooooooooo  \n",
            "   ooooooooooooo   \n",
            "    ooooooooooo    \n",
            "     ooooooooo     \n",
            "      ooooooo      \n",
            "       ooooo       \n",
            "        ooo        \n",
            "         o         \n"
          ]
        }
      ]
    },
    {
      "cell_type": "markdown",
      "source": [
        "```\n",
        "累加型迴圈\n",
        "** 列出詳細步驟\n",
        "\n",
        "例子：1+2+3...+10 等於多少?\n",
        "** +4的步驟: 前面累加總和=6, 6+4=10\n",
        "   +5的步驟: 前面累加總和=10, 10+5=15 ...\n",
        "** 要保持\"格子\"持續被代換，然後再加上的狀態\n",
        "```\n",
        "\n"
      ],
      "metadata": {
        "id": "-OD7wdQ-hKjc"
      }
    },
    {
      "cell_type": "code",
      "source": [
        "total = 0\n",
        "\n",
        "i = 0\n",
        "while i < 10:\n",
        "    total = total + (i + 1)\n",
        "    print(f\"total = {total}\")\n",
        "    i = i + 1"
      ],
      "metadata": {
        "colab": {
          "base_uri": "https://localhost:8080/"
        },
        "id": "jnVrn37lfiPD",
        "outputId": "4cb89d0d-72ef-46bd-a45c-f811bcc42887"
      },
      "execution_count": null,
      "outputs": [
        {
          "output_type": "stream",
          "name": "stdout",
          "text": [
            "total = 1\n",
            "total = 3\n",
            "total = 6\n",
            "total = 10\n",
            "total = 15\n",
            "total = 21\n",
            "total = 28\n",
            "total = 36\n",
            "total = 45\n",
            "total = 55\n"
          ]
        }
      ]
    },
    {
      "cell_type": "markdown",
      "source": [
        "```\n",
        "除法練習：2除以7\n",
        "1. 2後面補0\n",
        "2. 20除以7 = 2餘6\n",
        "3. 下一位數，6後面補0\n",
        "4. 60除以7 = 8餘4 ...以此類推\n",
        "```\n",
        "\n"
      ],
      "metadata": {
        "id": "WGrZitaHj2TL"
      }
    },
    {
      "cell_type": "code",
      "source": [
        "# 練習4\n",
        "\n",
        "a = 2\n",
        "b = 7\n",
        "result = \"0.\"\n",
        "layer = 10\n",
        "\n",
        "i = 0\n",
        "while i < layer:\n",
        "    a_10 = 10 * a\n",
        "    new_num = a_10 // b\n",
        "\n",
        "    result = result + str(new_num)\n",
        "    print(f\"result = {result}\")\n",
        "\n",
        "    a = a_10 % b\n",
        "\n",
        "    i = i + 1"
      ],
      "metadata": {
        "colab": {
          "base_uri": "https://localhost:8080/"
        },
        "id": "dj_oD1zXmvu1",
        "outputId": "03fba7d3-a4db-497f-ba04-7e7b0838053f"
      },
      "execution_count": null,
      "outputs": [
        {
          "output_type": "stream",
          "name": "stdout",
          "text": [
            "result = 0.2\n",
            "result = 0.28\n",
            "result = 0.285\n",
            "result = 0.2857\n",
            "result = 0.28571\n",
            "result = 0.285714\n",
            "result = 0.2857142\n",
            "result = 0.28571428\n",
            "result = 0.285714285\n",
            "result = 0.2857142857\n"
          ]
        }
      ]
    },
    {
      "cell_type": "code",
      "source": [
        "result = \"0.\"\n",
        "type(result)"
      ],
      "metadata": {
        "colab": {
          "base_uri": "https://localhost:8080/"
        },
        "id": "DHlvEloelY1T",
        "outputId": "98da4f45-e141-4749-d47d-5e743f7b2a1c"
      },
      "execution_count": null,
      "outputs": [
        {
          "output_type": "execute_result",
          "data": {
            "text/plain": [
              "str"
            ]
          },
          "metadata": {},
          "execution_count": 53
        }
      ]
    },
    {
      "cell_type": "code",
      "source": [
        "# 練習4-2\n",
        "\n",
        "a = 2\n",
        "b = 7\n",
        "result = \"0.\"\n",
        "layer = 10\n",
        "\n",
        "i = 0\n",
        "while i < layer:\n",
        "    a_10 = 10 * a\n",
        "    new_num = a_10 // b\n",
        "\n",
        "    # 不需要在迴圈中持續轉浮點數，最後再轉換為浮點數即可\n",
        "    # if i == 0:\n",
        "    #     result = result + str(new_num)\n",
        "    #     result = float(result)\n",
        "    # else:\n",
        "    #     result = result + new_num * (0.1 ** (i+1))\n",
        "\n",
        "    result = result + str(new_num)\n",
        "    print(f\"result = {result}\")\n",
        "\n",
        "    a = a_10 % b\n",
        "\n",
        "    i = i + 1\n",
        "\n",
        "result = float(result) # 最後再轉為浮點數"
      ],
      "metadata": {
        "colab": {
          "base_uri": "https://localhost:8080/"
        },
        "id": "4ZmIw_gci4Fq",
        "outputId": "1dca23ed-57a7-4853-bbef-b1dd991a2f62"
      },
      "execution_count": null,
      "outputs": [
        {
          "output_type": "stream",
          "name": "stdout",
          "text": [
            "result = 0.2\n",
            "result = 0.28\n",
            "result = 0.285\n",
            "result = 0.2857\n",
            "result = 0.28571\n",
            "result = 0.285714\n",
            "result = 0.2857142\n",
            "result = 0.28571428\n",
            "result = 0.285714285\n",
            "result = 0.2857142857\n"
          ]
        }
      ]
    },
    {
      "cell_type": "code",
      "source": [
        "# 老師寫的4\n",
        "\n",
        "a = 2\n",
        "b = 7\n",
        "result = \"0.\"\n",
        "\n",
        "i = 0\n",
        "while i < 10:\n",
        "\n",
        "    # 2 -> 20\n",
        "    a_10 = 10 * a\n",
        "\n",
        "    # 20 // 7 -> 0.2\n",
        "    result = result + str(a_10 // b)\n",
        "    print(f\"result = {result}\")\n",
        "\n",
        "    # 20 % 7\n",
        "    a = a_10 % b\n",
        "\n",
        "    i = i + 1"
      ],
      "metadata": {
        "id": "swO3sHfIoyTi"
      },
      "execution_count": null,
      "outputs": []
    },
    {
      "cell_type": "markdown",
      "source": [
        "```\n",
        "練習: a = 3, b = 5\n",
        "只要結果=0.6，後面都不要\n",
        "使用語法: break\n",
        "```\n",
        "\n"
      ],
      "metadata": {
        "id": "GowhlGUEpn1-"
      }
    },
    {
      "cell_type": "code",
      "source": [
        "# 練習5\n",
        "\n",
        "a = 3\n",
        "b = 5\n",
        "result = \"0.\"\n",
        "layer = 10\n",
        "\n",
        "i = 0\n",
        "while i < layer:\n",
        "    a_10 = 10 * a\n",
        "    new_num = a_10 // b\n",
        "\n",
        "    result = result + str(new_num)\n",
        "    print(f\"result = {result}\")\n",
        "\n",
        "    a = a_10 % b\n",
        "\n",
        "    if a == 0:\n",
        "        break\n",
        "\n",
        "    i = i + 1"
      ],
      "metadata": {
        "colab": {
          "base_uri": "https://localhost:8080/"
        },
        "id": "eo82umUSpnjg",
        "outputId": "b2b17d09-3840-467f-da6c-219d725d0c3d"
      },
      "execution_count": null,
      "outputs": [
        {
          "output_type": "stream",
          "name": "stdout",
          "text": [
            "result = 0.6\n"
          ]
        }
      ]
    },
    {
      "cell_type": "code",
      "source": [
        "# 練習6\n",
        "\n",
        "a = 30\n",
        "b = 7\n",
        "result = str(a // b) + \".\"\n",
        "layer = 10\n",
        "\n",
        "a = a % b\n",
        "\n",
        "i = 0\n",
        "while i < layer:\n",
        "    a_10 = 10 * a\n",
        "    new_num = a_10 // b\n",
        "\n",
        "    result = result + str(new_num)\n",
        "    print(f\"result = {result}\")\n",
        "\n",
        "    a = a_10 % b\n",
        "\n",
        "    i = i + 1"
      ],
      "metadata": {
        "id": "o7WbgqpHrVVs",
        "colab": {
          "base_uri": "https://localhost:8080/"
        },
        "outputId": "3c1c855c-9361-46cb-b2b8-e623b1660a51"
      },
      "execution_count": 70,
      "outputs": [
        {
          "output_type": "stream",
          "name": "stdout",
          "text": [
            "result = 4.2\n",
            "result = 4.28\n",
            "result = 4.285\n",
            "result = 4.2857\n",
            "result = 4.28571\n",
            "result = 4.285714\n",
            "result = 4.2857142\n",
            "result = 4.28571428\n",
            "result = 4.285714285\n",
            "result = 4.2857142857\n"
          ]
        }
      ]
    },
    {
      "cell_type": "code",
      "source": [
        "# 練習6-2\n",
        "\n",
        "a = 30\n",
        "b = 7\n",
        "result = \".\"\n",
        "layer = 10\n",
        "\n",
        "i = 0\n",
        "while i < layer:\n",
        "\n",
        "    if a > 10:\n",
        "        new_num = a // b\n",
        "\n",
        "        result = str(new_num) + result\n",
        "        print(f\"result = {result}\")\n",
        "\n",
        "        a = a % b\n",
        "\n",
        "        i = i + 1\n",
        "\n",
        "    elif a < 10:\n",
        "        a_10 = 10 * a\n",
        "        new_num = a_10 // b\n",
        "\n",
        "        result = result + str(new_num)\n",
        "        print(f\"result = {result}\")\n",
        "\n",
        "        a = a_10 % b\n",
        "\n",
        "        i = i + 1"
      ],
      "metadata": {
        "colab": {
          "base_uri": "https://localhost:8080/"
        },
        "id": "Hk2Jp3d0t2Hf",
        "outputId": "248ac6e1-b6a1-4857-9ff0-83d1b63d74d7"
      },
      "execution_count": 88,
      "outputs": [
        {
          "output_type": "stream",
          "name": "stdout",
          "text": [
            "4\n",
            "result = 4.\n",
            "result = 4.2\n",
            "result = 4.28\n",
            "result = 4.285\n",
            "result = 4.2857\n",
            "result = 4.28571\n",
            "result = 4.285714\n",
            "result = 4.2857142\n",
            "result = 4.28571428\n",
            "result = 4.285714285\n"
          ]
        }
      ]
    },
    {
      "cell_type": "markdown",
      "source": [
        "```\n",
        "練習: 確認隨機數是否夠隨機? 是否有偏重某一個數字?\n",
        "```\n",
        "\n"
      ],
      "metadata": {
        "id": "uDDE-XzCsvU9"
      }
    },
    {
      "cell_type": "code",
      "source": [
        "# 練習7\n",
        "\n",
        "import random\n",
        "\n",
        "count0, count1 = 0, 0\n",
        "times = 100\n",
        "i = 0\n",
        "\n",
        "while i < times:\n",
        "    num = random.randint(0, 1)\n",
        "\n",
        "    if num == 0:\n",
        "        count0 = count0 + 1\n",
        "    else:\n",
        "        count1 = count1 + 1\n",
        "\n",
        "    i = i + 1\n",
        "\n",
        "print(f\"count0 =  {count0} and count1 = {count1}\")"
      ],
      "metadata": {
        "colab": {
          "base_uri": "https://localhost:8080/"
        },
        "id": "pDfw913Msmh3",
        "outputId": "8a2c748c-3bb3-43cc-8a37-48d902fb3a56"
      },
      "execution_count": 76,
      "outputs": [
        {
          "output_type": "stream",
          "name": "stdout",
          "text": [
            "count0 =  61 and count1 = 39\n"
          ]
        }
      ]
    },
    {
      "cell_type": "code",
      "source": [
        "# 老師寫的7\n",
        "\n",
        "import random\n",
        "\n",
        "count0, count1 = 0, 0\n",
        "times = 100\n",
        "i = 0\n",
        "\n",
        "while i < times:\n",
        "    n = random.randint(0, 1)\n",
        "\n",
        "    if n == 0:\n",
        "        count0 = count0 + 1\n",
        "    elif n == 1: # 不寫else, 確保出錯時程式會停止\n",
        "        count1 = count1 + 1\n",
        "\n",
        "    i = i + 1\n",
        "\n",
        "print(f\"count0 =  {count0} and count1 = {count1}\")"
      ],
      "metadata": {
        "colab": {
          "base_uri": "https://localhost:8080/"
        },
        "id": "fzrv60X1tl8P",
        "outputId": "bd2e8514-132c-4862-aa15-f1ae306c93f1"
      },
      "execution_count": 77,
      "outputs": [
        {
          "output_type": "stream",
          "name": "stdout",
          "text": [
            "count0 =  57 and count1 = 43\n"
          ]
        }
      ]
    },
    {
      "cell_type": "markdown",
      "source": [
        "```\n",
        "練習: 假設隨機數是0~9的話，該怎麼辦?\n",
        "```\n",
        "\n"
      ],
      "metadata": {
        "id": "Hg2QDGfGwLQR"
      }
    },
    {
      "cell_type": "code",
      "source": [
        "# 練習8\n",
        "\n",
        "import random\n",
        "\n",
        "counts = [0] * 10\n",
        "\n",
        "times = 100\n",
        "i = 0\n",
        "\n",
        "while i < times:\n",
        "    num = random.randint(0, 9)\n",
        "    counts[num] = counts[num] + 1\n",
        "\n",
        "    i = i + 1\n",
        "\n",
        "print(f\"counts =  {counts}\")\n",
        "\n",
        "total = sum(counts)\n",
        "print(f\"counts_time =  {total}\")"
      ],
      "metadata": {
        "colab": {
          "base_uri": "https://localhost:8080/"
        },
        "id": "xm-ABUPMudq6",
        "outputId": "6c607fb5-d653-4b57-af58-a7e0bb8bd85f"
      },
      "execution_count": 81,
      "outputs": [
        {
          "output_type": "stream",
          "name": "stdout",
          "text": [
            "counts =  [11, 8, 19, 6, 11, 13, 8, 10, 5, 9]\n",
            "counts_time =  100\n"
          ]
        }
      ]
    },
    {
      "cell_type": "code",
      "source": [
        "# 老師寫的8\n",
        "\n",
        "import random\n",
        "\n",
        "counts = [0] * 10\n",
        "times = 1000\n",
        "i = 0\n",
        "\n",
        "while i < times:\n",
        "    n = random.randint(0, 9)\n",
        "    counts[n] = counts[n] + 1\n",
        "    # print(n, counts) # 顯示隨機的數字是多少，以及counts的更新結果\n",
        "\n",
        "    i = i + 1\n",
        "\n",
        "print(f\"counts =  {counts}\")"
      ],
      "metadata": {
        "colab": {
          "base_uri": "https://localhost:8080/"
        },
        "id": "Jn0c2h-zvzaz",
        "outputId": "bd3dc96b-43a3-4c34-8dcb-b9fb938a965b"
      },
      "execution_count": 84,
      "outputs": [
        {
          "output_type": "stream",
          "name": "stdout",
          "text": [
            "counts =  [99, 97, 114, 92, 96, 106, 99, 92, 109, 96]\n"
          ]
        }
      ]
    },
    {
      "cell_type": "code",
      "source": [
        "# 老師寫的8-2\n",
        "\n",
        "import random\n",
        "\n",
        "LOW, HIGH = 2, 11\n",
        "counts = [0] * (HIGH + 1)\n",
        "# counts = [0] * (HIGH - LOW + 1)\n",
        "times = 1000\n",
        "i = 0\n",
        "\n",
        "while i < times:\n",
        "    n = random.randint(LOW , HIGH)\n",
        "    counts[n] = counts[n] + 1\n",
        "    # counts[n-LOW] = counts[n-LOW] + 1\n",
        "    # print(n, counts) # 顯示隨機的數字是多少，以及counts的更新結果\n",
        "\n",
        "    i = i + 1\n",
        "\n",
        "print(f\"counts =  {counts}\")"
      ],
      "metadata": {
        "colab": {
          "base_uri": "https://localhost:8080/"
        },
        "id": "zxQj9bDNyAYo",
        "outputId": "9de1aafc-d4f1-4324-d657-1ac485c8a13d"
      },
      "execution_count": 85,
      "outputs": [
        {
          "output_type": "stream",
          "name": "stdout",
          "text": [
            "counts =  [0, 0, 80, 101, 106, 98, 98, 83, 94, 110, 119, 111]\n"
          ]
        }
      ]
    },
    {
      "cell_type": "markdown",
      "source": [
        "```\n",
        "練習: 統計字串中的英文字母, 出現的次數\n",
        "```\n",
        "\n"
      ],
      "metadata": {
        "id": "fyv_9_FJyvdJ"
      }
    },
    {
      "cell_type": "code",
      "source": [
        "s = \"wjoilkcknkqinbapaoy\"\n",
        "\n",
        "counts = [0] * 26\n",
        "\n",
        "i = 0\n",
        "while i < len(alphabet):\n",
        "    c = s[i]\n",
        "    # print(c)\n",
        "    # 事實上，字母存在你的電腦中:\n",
        "    # ASCII編碼: a -> 0101010\n",
        "    # ord(\"a\") -> 97\n",
        "    # 轉換成編碼，然後統計出現次數\n",
        "\n",
        "    i = i + 1\n",
        "\n",
        "# 幫我印的漂亮點(26次的迴圈)\n",
        "# a: 三次"
      ],
      "metadata": {
        "id": "BORAZtapy3xw"
      },
      "execution_count": null,
      "outputs": []
    },
    {
      "cell_type": "code",
      "source": [
        "# 把字母轉編碼\n",
        "ord(\"a\")\n",
        "\n",
        "# 把編碼轉字母\n",
        "chr(97)"
      ],
      "metadata": {
        "id": "KvSFZ9r_0J2H"
      },
      "execution_count": null,
      "outputs": []
    },
    {
      "cell_type": "code",
      "source": [
        "# 回家作業練習(用list做)\n"
      ],
      "metadata": {
        "id": "_2jhzPR70BHN"
      },
      "execution_count": null,
      "outputs": []
    }
  ]
}